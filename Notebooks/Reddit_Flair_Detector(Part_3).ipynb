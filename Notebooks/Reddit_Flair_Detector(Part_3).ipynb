{
  "nbformat": 4,
  "nbformat_minor": 0,
  "metadata": {
    "colab": {
      "name": "Reddit_Flair_Detector(Part-3).ipynb",
      "provenance": [],
      "collapsed_sections": [],
      "mount_file_id": "1bxSpFSljsqOnISWkmRJ5j2hzqqbN4gMK",
      "authorship_tag": "ABX9TyNhuTjpNXLnJspSVn846KSj",
      "include_colab_link": true
    },
    "kernelspec": {
      "name": "python3",
      "display_name": "Python 3"
    },
    "accelerator": "GPU",
    "widgets": {
      "application/vnd.jupyter.widget-state+json": {
        "2a8340ff598a4202a439608366056438": {
          "model_module": "@jupyter-widgets/controls",
          "model_name": "HBoxModel",
          "state": {
            "_view_name": "HBoxView",
            "_dom_classes": [],
            "_model_name": "HBoxModel",
            "_view_module": "@jupyter-widgets/controls",
            "_model_module_version": "1.5.0",
            "_view_count": null,
            "_view_module_version": "1.5.0",
            "box_style": "",
            "layout": "IPY_MODEL_acef594edb304ef8b0aa6bfa4e41d6f0",
            "_model_module": "@jupyter-widgets/controls",
            "children": [
              "IPY_MODEL_bbe43967d2d14bdabb71aa9db122db82",
              "IPY_MODEL_bcaab522e9b147019c6ae136a3d2f9da"
            ]
          }
        },
        "acef594edb304ef8b0aa6bfa4e41d6f0": {
          "model_module": "@jupyter-widgets/base",
          "model_name": "LayoutModel",
          "state": {
            "_view_name": "LayoutView",
            "grid_template_rows": null,
            "right": null,
            "justify_content": null,
            "_view_module": "@jupyter-widgets/base",
            "overflow": null,
            "_model_module_version": "1.2.0",
            "_view_count": null,
            "flex_flow": null,
            "width": null,
            "min_width": null,
            "border": null,
            "align_items": null,
            "bottom": null,
            "_model_module": "@jupyter-widgets/base",
            "top": null,
            "grid_column": null,
            "overflow_y": null,
            "overflow_x": null,
            "grid_auto_flow": null,
            "grid_area": null,
            "grid_template_columns": null,
            "flex": null,
            "_model_name": "LayoutModel",
            "justify_items": null,
            "grid_row": null,
            "max_height": null,
            "align_content": null,
            "visibility": null,
            "align_self": null,
            "height": null,
            "min_height": null,
            "padding": null,
            "grid_auto_rows": null,
            "grid_gap": null,
            "max_width": null,
            "order": null,
            "_view_module_version": "1.2.0",
            "grid_template_areas": null,
            "object_position": null,
            "object_fit": null,
            "grid_auto_columns": null,
            "margin": null,
            "display": null,
            "left": null
          }
        },
        "bbe43967d2d14bdabb71aa9db122db82": {
          "model_module": "@jupyter-widgets/controls",
          "model_name": "IntProgressModel",
          "state": {
            "_view_name": "ProgressView",
            "style": "IPY_MODEL_e6492158af8d4a7c91882d8b0581c76d",
            "_dom_classes": [],
            "description": "Downloading: 100%",
            "_model_name": "IntProgressModel",
            "bar_style": "success",
            "max": 798011,
            "_view_module": "@jupyter-widgets/controls",
            "_model_module_version": "1.5.0",
            "value": 798011,
            "_view_count": null,
            "_view_module_version": "1.5.0",
            "orientation": "horizontal",
            "min": 0,
            "description_tooltip": null,
            "_model_module": "@jupyter-widgets/controls",
            "layout": "IPY_MODEL_83d34595b04a4423818fb04fb972716f"
          }
        },
        "bcaab522e9b147019c6ae136a3d2f9da": {
          "model_module": "@jupyter-widgets/controls",
          "model_name": "HTMLModel",
          "state": {
            "_view_name": "HTMLView",
            "style": "IPY_MODEL_7033a3d7dcad4cacb5728978d9ede634",
            "_dom_classes": [],
            "description": "",
            "_model_name": "HTMLModel",
            "placeholder": "​",
            "_view_module": "@jupyter-widgets/controls",
            "_model_module_version": "1.5.0",
            "value": " 798k/798k [00:00&lt;00:00, 1.50MB/s]",
            "_view_count": null,
            "_view_module_version": "1.5.0",
            "description_tooltip": null,
            "_model_module": "@jupyter-widgets/controls",
            "layout": "IPY_MODEL_95125e525a94415ea8e8dbede49f169d"
          }
        },
        "e6492158af8d4a7c91882d8b0581c76d": {
          "model_module": "@jupyter-widgets/controls",
          "model_name": "ProgressStyleModel",
          "state": {
            "_view_name": "StyleView",
            "_model_name": "ProgressStyleModel",
            "description_width": "initial",
            "_view_module": "@jupyter-widgets/base",
            "_model_module_version": "1.5.0",
            "_view_count": null,
            "_view_module_version": "1.2.0",
            "bar_color": null,
            "_model_module": "@jupyter-widgets/controls"
          }
        },
        "83d34595b04a4423818fb04fb972716f": {
          "model_module": "@jupyter-widgets/base",
          "model_name": "LayoutModel",
          "state": {
            "_view_name": "LayoutView",
            "grid_template_rows": null,
            "right": null,
            "justify_content": null,
            "_view_module": "@jupyter-widgets/base",
            "overflow": null,
            "_model_module_version": "1.2.0",
            "_view_count": null,
            "flex_flow": null,
            "width": null,
            "min_width": null,
            "border": null,
            "align_items": null,
            "bottom": null,
            "_model_module": "@jupyter-widgets/base",
            "top": null,
            "grid_column": null,
            "overflow_y": null,
            "overflow_x": null,
            "grid_auto_flow": null,
            "grid_area": null,
            "grid_template_columns": null,
            "flex": null,
            "_model_name": "LayoutModel",
            "justify_items": null,
            "grid_row": null,
            "max_height": null,
            "align_content": null,
            "visibility": null,
            "align_self": null,
            "height": null,
            "min_height": null,
            "padding": null,
            "grid_auto_rows": null,
            "grid_gap": null,
            "max_width": null,
            "order": null,
            "_view_module_version": "1.2.0",
            "grid_template_areas": null,
            "object_position": null,
            "object_fit": null,
            "grid_auto_columns": null,
            "margin": null,
            "display": null,
            "left": null
          }
        },
        "7033a3d7dcad4cacb5728978d9ede634": {
          "model_module": "@jupyter-widgets/controls",
          "model_name": "DescriptionStyleModel",
          "state": {
            "_view_name": "StyleView",
            "_model_name": "DescriptionStyleModel",
            "description_width": "",
            "_view_module": "@jupyter-widgets/base",
            "_model_module_version": "1.5.0",
            "_view_count": null,
            "_view_module_version": "1.2.0",
            "_model_module": "@jupyter-widgets/controls"
          }
        },
        "95125e525a94415ea8e8dbede49f169d": {
          "model_module": "@jupyter-widgets/base",
          "model_name": "LayoutModel",
          "state": {
            "_view_name": "LayoutView",
            "grid_template_rows": null,
            "right": null,
            "justify_content": null,
            "_view_module": "@jupyter-widgets/base",
            "overflow": null,
            "_model_module_version": "1.2.0",
            "_view_count": null,
            "flex_flow": null,
            "width": null,
            "min_width": null,
            "border": null,
            "align_items": null,
            "bottom": null,
            "_model_module": "@jupyter-widgets/base",
            "top": null,
            "grid_column": null,
            "overflow_y": null,
            "overflow_x": null,
            "grid_auto_flow": null,
            "grid_area": null,
            "grid_template_columns": null,
            "flex": null,
            "_model_name": "LayoutModel",
            "justify_items": null,
            "grid_row": null,
            "max_height": null,
            "align_content": null,
            "visibility": null,
            "align_self": null,
            "height": null,
            "min_height": null,
            "padding": null,
            "grid_auto_rows": null,
            "grid_gap": null,
            "max_width": null,
            "order": null,
            "_view_module_version": "1.2.0",
            "grid_template_areas": null,
            "object_position": null,
            "object_fit": null,
            "grid_auto_columns": null,
            "margin": null,
            "display": null,
            "left": null
          }
        },
        "905a1042de77421897ed2bd58988ae41": {
          "model_module": "@jupyter-widgets/controls",
          "model_name": "HBoxModel",
          "state": {
            "_view_name": "HBoxView",
            "_dom_classes": [],
            "_model_name": "HBoxModel",
            "_view_module": "@jupyter-widgets/controls",
            "_model_module_version": "1.5.0",
            "_view_count": null,
            "_view_module_version": "1.5.0",
            "box_style": "",
            "layout": "IPY_MODEL_8899a0827eed47d59d0edc4a8aca3ff0",
            "_model_module": "@jupyter-widgets/controls",
            "children": [
              "IPY_MODEL_a22d226964f647ec9b99672ff7bea201",
              "IPY_MODEL_22dc4c18bcc74b9c80744f2080120a87"
            ]
          }
        },
        "8899a0827eed47d59d0edc4a8aca3ff0": {
          "model_module": "@jupyter-widgets/base",
          "model_name": "LayoutModel",
          "state": {
            "_view_name": "LayoutView",
            "grid_template_rows": null,
            "right": null,
            "justify_content": null,
            "_view_module": "@jupyter-widgets/base",
            "overflow": null,
            "_model_module_version": "1.2.0",
            "_view_count": null,
            "flex_flow": null,
            "width": null,
            "min_width": null,
            "border": null,
            "align_items": null,
            "bottom": null,
            "_model_module": "@jupyter-widgets/base",
            "top": null,
            "grid_column": null,
            "overflow_y": null,
            "overflow_x": null,
            "grid_auto_flow": null,
            "grid_area": null,
            "grid_template_columns": null,
            "flex": null,
            "_model_name": "LayoutModel",
            "justify_items": null,
            "grid_row": null,
            "max_height": null,
            "align_content": null,
            "visibility": null,
            "align_self": null,
            "height": null,
            "min_height": null,
            "padding": null,
            "grid_auto_rows": null,
            "grid_gap": null,
            "max_width": null,
            "order": null,
            "_view_module_version": "1.2.0",
            "grid_template_areas": null,
            "object_position": null,
            "object_fit": null,
            "grid_auto_columns": null,
            "margin": null,
            "display": null,
            "left": null
          }
        },
        "a22d226964f647ec9b99672ff7bea201": {
          "model_module": "@jupyter-widgets/controls",
          "model_name": "IntProgressModel",
          "state": {
            "_view_name": "ProgressView",
            "style": "IPY_MODEL_d7efc1ac63d64cb19e0f51095737aabc",
            "_dom_classes": [],
            "description": "Downloading: 100%",
            "_model_name": "IntProgressModel",
            "bar_style": "success",
            "max": 777,
            "_view_module": "@jupyter-widgets/controls",
            "_model_module_version": "1.5.0",
            "value": 777,
            "_view_count": null,
            "_view_module_version": "1.5.0",
            "orientation": "horizontal",
            "min": 0,
            "description_tooltip": null,
            "_model_module": "@jupyter-widgets/controls",
            "layout": "IPY_MODEL_4217d274f3b0486f9fc903a4e4d2fda1"
          }
        },
        "22dc4c18bcc74b9c80744f2080120a87": {
          "model_module": "@jupyter-widgets/controls",
          "model_name": "HTMLModel",
          "state": {
            "_view_name": "HTMLView",
            "style": "IPY_MODEL_0e82d1afa49f494081b05b32490bfabd",
            "_dom_classes": [],
            "description": "",
            "_model_name": "HTMLModel",
            "placeholder": "​",
            "_view_module": "@jupyter-widgets/controls",
            "_model_module_version": "1.5.0",
            "value": " 777/777 [00:00&lt;00:00, 919B/s]",
            "_view_count": null,
            "_view_module_version": "1.5.0",
            "description_tooltip": null,
            "_model_module": "@jupyter-widgets/controls",
            "layout": "IPY_MODEL_63919f68fa1648b8b91d8212467967a6"
          }
        },
        "d7efc1ac63d64cb19e0f51095737aabc": {
          "model_module": "@jupyter-widgets/controls",
          "model_name": "ProgressStyleModel",
          "state": {
            "_view_name": "StyleView",
            "_model_name": "ProgressStyleModel",
            "description_width": "initial",
            "_view_module": "@jupyter-widgets/base",
            "_model_module_version": "1.5.0",
            "_view_count": null,
            "_view_module_version": "1.2.0",
            "bar_color": null,
            "_model_module": "@jupyter-widgets/controls"
          }
        },
        "4217d274f3b0486f9fc903a4e4d2fda1": {
          "model_module": "@jupyter-widgets/base",
          "model_name": "LayoutModel",
          "state": {
            "_view_name": "LayoutView",
            "grid_template_rows": null,
            "right": null,
            "justify_content": null,
            "_view_module": "@jupyter-widgets/base",
            "overflow": null,
            "_model_module_version": "1.2.0",
            "_view_count": null,
            "flex_flow": null,
            "width": null,
            "min_width": null,
            "border": null,
            "align_items": null,
            "bottom": null,
            "_model_module": "@jupyter-widgets/base",
            "top": null,
            "grid_column": null,
            "overflow_y": null,
            "overflow_x": null,
            "grid_auto_flow": null,
            "grid_area": null,
            "grid_template_columns": null,
            "flex": null,
            "_model_name": "LayoutModel",
            "justify_items": null,
            "grid_row": null,
            "max_height": null,
            "align_content": null,
            "visibility": null,
            "align_self": null,
            "height": null,
            "min_height": null,
            "padding": null,
            "grid_auto_rows": null,
            "grid_gap": null,
            "max_width": null,
            "order": null,
            "_view_module_version": "1.2.0",
            "grid_template_areas": null,
            "object_position": null,
            "object_fit": null,
            "grid_auto_columns": null,
            "margin": null,
            "display": null,
            "left": null
          }
        },
        "0e82d1afa49f494081b05b32490bfabd": {
          "model_module": "@jupyter-widgets/controls",
          "model_name": "DescriptionStyleModel",
          "state": {
            "_view_name": "StyleView",
            "_model_name": "DescriptionStyleModel",
            "description_width": "",
            "_view_module": "@jupyter-widgets/base",
            "_model_module_version": "1.5.0",
            "_view_count": null,
            "_view_module_version": "1.2.0",
            "_model_module": "@jupyter-widgets/controls"
          }
        },
        "63919f68fa1648b8b91d8212467967a6": {
          "model_module": "@jupyter-widgets/base",
          "model_name": "LayoutModel",
          "state": {
            "_view_name": "LayoutView",
            "grid_template_rows": null,
            "right": null,
            "justify_content": null,
            "_view_module": "@jupyter-widgets/base",
            "overflow": null,
            "_model_module_version": "1.2.0",
            "_view_count": null,
            "flex_flow": null,
            "width": null,
            "min_width": null,
            "border": null,
            "align_items": null,
            "bottom": null,
            "_model_module": "@jupyter-widgets/base",
            "top": null,
            "grid_column": null,
            "overflow_y": null,
            "overflow_x": null,
            "grid_auto_flow": null,
            "grid_area": null,
            "grid_template_columns": null,
            "flex": null,
            "_model_name": "LayoutModel",
            "justify_items": null,
            "grid_row": null,
            "max_height": null,
            "align_content": null,
            "visibility": null,
            "align_self": null,
            "height": null,
            "min_height": null,
            "padding": null,
            "grid_auto_rows": null,
            "grid_gap": null,
            "max_width": null,
            "order": null,
            "_view_module_version": "1.2.0",
            "grid_template_areas": null,
            "object_position": null,
            "object_fit": null,
            "grid_auto_columns": null,
            "margin": null,
            "display": null,
            "left": null
          }
        },
        "1eb52a451b9244b9a3e389ef1a73d7bd": {
          "model_module": "@jupyter-widgets/controls",
          "model_name": "HBoxModel",
          "state": {
            "_view_name": "HBoxView",
            "_dom_classes": [],
            "_model_name": "HBoxModel",
            "_view_module": "@jupyter-widgets/controls",
            "_model_module_version": "1.5.0",
            "_view_count": null,
            "_view_module_version": "1.5.0",
            "box_style": "",
            "layout": "IPY_MODEL_65d101e1e4304f668deb8032c96d1c62",
            "_model_module": "@jupyter-widgets/controls",
            "children": [
              "IPY_MODEL_7cd7b9889162403cae946c28ceec54c6",
              "IPY_MODEL_18d4212580f64729ab9dc17917921ed6"
            ]
          }
        },
        "65d101e1e4304f668deb8032c96d1c62": {
          "model_module": "@jupyter-widgets/base",
          "model_name": "LayoutModel",
          "state": {
            "_view_name": "LayoutView",
            "grid_template_rows": null,
            "right": null,
            "justify_content": null,
            "_view_module": "@jupyter-widgets/base",
            "overflow": null,
            "_model_module_version": "1.2.0",
            "_view_count": null,
            "flex_flow": null,
            "width": null,
            "min_width": null,
            "border": null,
            "align_items": null,
            "bottom": null,
            "_model_module": "@jupyter-widgets/base",
            "top": null,
            "grid_column": null,
            "overflow_y": null,
            "overflow_x": null,
            "grid_auto_flow": null,
            "grid_area": null,
            "grid_template_columns": null,
            "flex": null,
            "_model_name": "LayoutModel",
            "justify_items": null,
            "grid_row": null,
            "max_height": null,
            "align_content": null,
            "visibility": null,
            "align_self": null,
            "height": null,
            "min_height": null,
            "padding": null,
            "grid_auto_rows": null,
            "grid_gap": null,
            "max_width": null,
            "order": null,
            "_view_module_version": "1.2.0",
            "grid_template_areas": null,
            "object_position": null,
            "object_fit": null,
            "grid_auto_columns": null,
            "margin": null,
            "display": null,
            "left": null
          }
        },
        "7cd7b9889162403cae946c28ceec54c6": {
          "model_module": "@jupyter-widgets/controls",
          "model_name": "IntProgressModel",
          "state": {
            "_view_name": "ProgressView",
            "style": "IPY_MODEL_87b9bd69f2b3479ea32a10f23f0f3769",
            "_dom_classes": [],
            "description": "Downloading: 100%",
            "_model_name": "IntProgressModel",
            "bar_style": "success",
            "max": 565485600,
            "_view_module": "@jupyter-widgets/controls",
            "_model_module_version": "1.5.0",
            "value": 565485600,
            "_view_count": null,
            "_view_module_version": "1.5.0",
            "orientation": "horizontal",
            "min": 0,
            "description_tooltip": null,
            "_model_module": "@jupyter-widgets/controls",
            "layout": "IPY_MODEL_fd2374a8246947f1aea45d226832719a"
          }
        },
        "18d4212580f64729ab9dc17917921ed6": {
          "model_module": "@jupyter-widgets/controls",
          "model_name": "HTMLModel",
          "state": {
            "_view_name": "HTMLView",
            "style": "IPY_MODEL_9e4da91130a94379a6bb4d46bc098608",
            "_dom_classes": [],
            "description": "",
            "_model_name": "HTMLModel",
            "placeholder": "​",
            "_view_module": "@jupyter-widgets/controls",
            "_model_module_version": "1.5.0",
            "value": " 565M/565M [00:18&lt;00:00, 31.2MB/s]",
            "_view_count": null,
            "_view_module_version": "1.5.0",
            "description_tooltip": null,
            "_model_module": "@jupyter-widgets/controls",
            "layout": "IPY_MODEL_fe9064e729fd4a0ea9505bba86764c5d"
          }
        },
        "87b9bd69f2b3479ea32a10f23f0f3769": {
          "model_module": "@jupyter-widgets/controls",
          "model_name": "ProgressStyleModel",
          "state": {
            "_view_name": "StyleView",
            "_model_name": "ProgressStyleModel",
            "description_width": "initial",
            "_view_module": "@jupyter-widgets/base",
            "_model_module_version": "1.5.0",
            "_view_count": null,
            "_view_module_version": "1.2.0",
            "bar_color": null,
            "_model_module": "@jupyter-widgets/controls"
          }
        },
        "fd2374a8246947f1aea45d226832719a": {
          "model_module": "@jupyter-widgets/base",
          "model_name": "LayoutModel",
          "state": {
            "_view_name": "LayoutView",
            "grid_template_rows": null,
            "right": null,
            "justify_content": null,
            "_view_module": "@jupyter-widgets/base",
            "overflow": null,
            "_model_module_version": "1.2.0",
            "_view_count": null,
            "flex_flow": null,
            "width": null,
            "min_width": null,
            "border": null,
            "align_items": null,
            "bottom": null,
            "_model_module": "@jupyter-widgets/base",
            "top": null,
            "grid_column": null,
            "overflow_y": null,
            "overflow_x": null,
            "grid_auto_flow": null,
            "grid_area": null,
            "grid_template_columns": null,
            "flex": null,
            "_model_name": "LayoutModel",
            "justify_items": null,
            "grid_row": null,
            "max_height": null,
            "align_content": null,
            "visibility": null,
            "align_self": null,
            "height": null,
            "min_height": null,
            "padding": null,
            "grid_auto_rows": null,
            "grid_gap": null,
            "max_width": null,
            "order": null,
            "_view_module_version": "1.2.0",
            "grid_template_areas": null,
            "object_position": null,
            "object_fit": null,
            "grid_auto_columns": null,
            "margin": null,
            "display": null,
            "left": null
          }
        },
        "9e4da91130a94379a6bb4d46bc098608": {
          "model_module": "@jupyter-widgets/controls",
          "model_name": "DescriptionStyleModel",
          "state": {
            "_view_name": "StyleView",
            "_model_name": "DescriptionStyleModel",
            "description_width": "",
            "_view_module": "@jupyter-widgets/base",
            "_model_module_version": "1.5.0",
            "_view_count": null,
            "_view_module_version": "1.2.0",
            "_model_module": "@jupyter-widgets/controls"
          }
        },
        "fe9064e729fd4a0ea9505bba86764c5d": {
          "model_module": "@jupyter-widgets/base",
          "model_name": "LayoutModel",
          "state": {
            "_view_name": "LayoutView",
            "grid_template_rows": null,
            "right": null,
            "justify_content": null,
            "_view_module": "@jupyter-widgets/base",
            "overflow": null,
            "_model_module_version": "1.2.0",
            "_view_count": null,
            "flex_flow": null,
            "width": null,
            "min_width": null,
            "border": null,
            "align_items": null,
            "bottom": null,
            "_model_module": "@jupyter-widgets/base",
            "top": null,
            "grid_column": null,
            "overflow_y": null,
            "overflow_x": null,
            "grid_auto_flow": null,
            "grid_area": null,
            "grid_template_columns": null,
            "flex": null,
            "_model_name": "LayoutModel",
            "justify_items": null,
            "grid_row": null,
            "max_height": null,
            "align_content": null,
            "visibility": null,
            "align_self": null,
            "height": null,
            "min_height": null,
            "padding": null,
            "grid_auto_rows": null,
            "grid_gap": null,
            "max_width": null,
            "order": null,
            "_view_module_version": "1.2.0",
            "grid_template_areas": null,
            "object_position": null,
            "object_fit": null,
            "grid_auto_columns": null,
            "margin": null,
            "display": null,
            "left": null
          }
        },
        "8655f183ffd741c0bf4c5a72f000a9de": {
          "model_module": "@jupyter-widgets/controls",
          "model_name": "HBoxModel",
          "state": {
            "_view_name": "HBoxView",
            "_dom_classes": [],
            "_model_name": "HBoxModel",
            "_view_module": "@jupyter-widgets/controls",
            "_model_module_version": "1.5.0",
            "_view_count": null,
            "_view_module_version": "1.5.0",
            "box_style": "",
            "layout": "IPY_MODEL_05e63aea54ff4c43883404f0fcfa41d7",
            "_model_module": "@jupyter-widgets/controls",
            "children": [
              "IPY_MODEL_84d1c7933c6e4bdbb45d9737647cf3fe",
              "IPY_MODEL_c9643f4a49f54b78b92a485ae35de847"
            ]
          }
        },
        "05e63aea54ff4c43883404f0fcfa41d7": {
          "model_module": "@jupyter-widgets/base",
          "model_name": "LayoutModel",
          "state": {
            "_view_name": "LayoutView",
            "grid_template_rows": null,
            "right": null,
            "justify_content": null,
            "_view_module": "@jupyter-widgets/base",
            "overflow": null,
            "_model_module_version": "1.2.0",
            "_view_count": null,
            "flex_flow": null,
            "width": null,
            "min_width": null,
            "border": null,
            "align_items": null,
            "bottom": null,
            "_model_module": "@jupyter-widgets/base",
            "top": null,
            "grid_column": null,
            "overflow_y": null,
            "overflow_x": null,
            "grid_auto_flow": null,
            "grid_area": null,
            "grid_template_columns": null,
            "flex": null,
            "_model_name": "LayoutModel",
            "justify_items": null,
            "grid_row": null,
            "max_height": null,
            "align_content": null,
            "visibility": null,
            "align_self": null,
            "height": null,
            "min_height": null,
            "padding": null,
            "grid_auto_rows": null,
            "grid_gap": null,
            "max_width": null,
            "order": null,
            "_view_module_version": "1.2.0",
            "grid_template_areas": null,
            "object_position": null,
            "object_fit": null,
            "grid_auto_columns": null,
            "margin": null,
            "display": null,
            "left": null
          }
        },
        "84d1c7933c6e4bdbb45d9737647cf3fe": {
          "model_module": "@jupyter-widgets/controls",
          "model_name": "IntProgressModel",
          "state": {
            "_view_name": "ProgressView",
            "style": "IPY_MODEL_aa61bd3243284f388197c064441c676c",
            "_dom_classes": [],
            "description": "Downloading: 100%",
            "_model_name": "IntProgressModel",
            "bar_style": "success",
            "max": 546,
            "_view_module": "@jupyter-widgets/controls",
            "_model_module_version": "1.5.0",
            "value": 546,
            "_view_count": null,
            "_view_module_version": "1.5.0",
            "orientation": "horizontal",
            "min": 0,
            "description_tooltip": null,
            "_model_module": "@jupyter-widgets/controls",
            "layout": "IPY_MODEL_fc76eae228814ea185c87661f68b2391"
          }
        },
        "c9643f4a49f54b78b92a485ae35de847": {
          "model_module": "@jupyter-widgets/controls",
          "model_name": "HTMLModel",
          "state": {
            "_view_name": "HTMLView",
            "style": "IPY_MODEL_c1d1dbd397cd4cbc9243ad618a5cf158",
            "_dom_classes": [],
            "description": "",
            "_model_name": "HTMLModel",
            "placeholder": "​",
            "_view_module": "@jupyter-widgets/controls",
            "_model_module_version": "1.5.0",
            "value": " 546/546 [00:12&lt;00:00, 42.2B/s]",
            "_view_count": null,
            "_view_module_version": "1.5.0",
            "description_tooltip": null,
            "_model_module": "@jupyter-widgets/controls",
            "layout": "IPY_MODEL_88806b7a22bd49f4844c817ffb2e29ea"
          }
        },
        "aa61bd3243284f388197c064441c676c": {
          "model_module": "@jupyter-widgets/controls",
          "model_name": "ProgressStyleModel",
          "state": {
            "_view_name": "StyleView",
            "_model_name": "ProgressStyleModel",
            "description_width": "initial",
            "_view_module": "@jupyter-widgets/base",
            "_model_module_version": "1.5.0",
            "_view_count": null,
            "_view_module_version": "1.2.0",
            "bar_color": null,
            "_model_module": "@jupyter-widgets/controls"
          }
        },
        "fc76eae228814ea185c87661f68b2391": {
          "model_module": "@jupyter-widgets/base",
          "model_name": "LayoutModel",
          "state": {
            "_view_name": "LayoutView",
            "grid_template_rows": null,
            "right": null,
            "justify_content": null,
            "_view_module": "@jupyter-widgets/base",
            "overflow": null,
            "_model_module_version": "1.2.0",
            "_view_count": null,
            "flex_flow": null,
            "width": null,
            "min_width": null,
            "border": null,
            "align_items": null,
            "bottom": null,
            "_model_module": "@jupyter-widgets/base",
            "top": null,
            "grid_column": null,
            "overflow_y": null,
            "overflow_x": null,
            "grid_auto_flow": null,
            "grid_area": null,
            "grid_template_columns": null,
            "flex": null,
            "_model_name": "LayoutModel",
            "justify_items": null,
            "grid_row": null,
            "max_height": null,
            "align_content": null,
            "visibility": null,
            "align_self": null,
            "height": null,
            "min_height": null,
            "padding": null,
            "grid_auto_rows": null,
            "grid_gap": null,
            "max_width": null,
            "order": null,
            "_view_module_version": "1.2.0",
            "grid_template_areas": null,
            "object_position": null,
            "object_fit": null,
            "grid_auto_columns": null,
            "margin": null,
            "display": null,
            "left": null
          }
        },
        "c1d1dbd397cd4cbc9243ad618a5cf158": {
          "model_module": "@jupyter-widgets/controls",
          "model_name": "DescriptionStyleModel",
          "state": {
            "_view_name": "StyleView",
            "_model_name": "DescriptionStyleModel",
            "description_width": "",
            "_view_module": "@jupyter-widgets/base",
            "_model_module_version": "1.5.0",
            "_view_count": null,
            "_view_module_version": "1.2.0",
            "_model_module": "@jupyter-widgets/controls"
          }
        },
        "88806b7a22bd49f4844c817ffb2e29ea": {
          "model_module": "@jupyter-widgets/base",
          "model_name": "LayoutModel",
          "state": {
            "_view_name": "LayoutView",
            "grid_template_rows": null,
            "right": null,
            "justify_content": null,
            "_view_module": "@jupyter-widgets/base",
            "overflow": null,
            "_model_module_version": "1.2.0",
            "_view_count": null,
            "flex_flow": null,
            "width": null,
            "min_width": null,
            "border": null,
            "align_items": null,
            "bottom": null,
            "_model_module": "@jupyter-widgets/base",
            "top": null,
            "grid_column": null,
            "overflow_y": null,
            "overflow_x": null,
            "grid_auto_flow": null,
            "grid_area": null,
            "grid_template_columns": null,
            "flex": null,
            "_model_name": "LayoutModel",
            "justify_items": null,
            "grid_row": null,
            "max_height": null,
            "align_content": null,
            "visibility": null,
            "align_self": null,
            "height": null,
            "min_height": null,
            "padding": null,
            "grid_auto_rows": null,
            "grid_gap": null,
            "max_width": null,
            "order": null,
            "_view_module_version": "1.2.0",
            "grid_template_areas": null,
            "object_position": null,
            "object_fit": null,
            "grid_auto_columns": null,
            "margin": null,
            "display": null,
            "left": null
          }
        },
        "097097922bdf46a5a4fb4a1eb2bb048f": {
          "model_module": "@jupyter-widgets/controls",
          "model_name": "HBoxModel",
          "state": {
            "_view_name": "HBoxView",
            "_dom_classes": [],
            "_model_name": "HBoxModel",
            "_view_module": "@jupyter-widgets/controls",
            "_model_module_version": "1.5.0",
            "_view_count": null,
            "_view_module_version": "1.5.0",
            "box_style": "",
            "layout": "IPY_MODEL_af23acefe47e44af87abdf93e69c6e93",
            "_model_module": "@jupyter-widgets/controls",
            "children": [
              "IPY_MODEL_0d50af2364694f419031943200808636",
              "IPY_MODEL_dfab234810124e478b793a6dcb1f197b"
            ]
          }
        },
        "af23acefe47e44af87abdf93e69c6e93": {
          "model_module": "@jupyter-widgets/base",
          "model_name": "LayoutModel",
          "state": {
            "_view_name": "LayoutView",
            "grid_template_rows": null,
            "right": null,
            "justify_content": null,
            "_view_module": "@jupyter-widgets/base",
            "overflow": null,
            "_model_module_version": "1.2.0",
            "_view_count": null,
            "flex_flow": null,
            "width": null,
            "min_width": null,
            "border": null,
            "align_items": null,
            "bottom": null,
            "_model_module": "@jupyter-widgets/base",
            "top": null,
            "grid_column": null,
            "overflow_y": null,
            "overflow_x": null,
            "grid_auto_flow": null,
            "grid_area": null,
            "grid_template_columns": null,
            "flex": null,
            "_model_name": "LayoutModel",
            "justify_items": null,
            "grid_row": null,
            "max_height": null,
            "align_content": null,
            "visibility": null,
            "align_self": null,
            "height": null,
            "min_height": null,
            "padding": null,
            "grid_auto_rows": null,
            "grid_gap": null,
            "max_width": null,
            "order": null,
            "_view_module_version": "1.2.0",
            "grid_template_areas": null,
            "object_position": null,
            "object_fit": null,
            "grid_auto_columns": null,
            "margin": null,
            "display": null,
            "left": null
          }
        },
        "0d50af2364694f419031943200808636": {
          "model_module": "@jupyter-widgets/controls",
          "model_name": "IntProgressModel",
          "state": {
            "_view_name": "ProgressView",
            "style": "IPY_MODEL_bab4d5b559d24c439102d12654ec89e2",
            "_dom_classes": [],
            "description": "Downloading: 100%",
            "_model_name": "IntProgressModel",
            "bar_style": "success",
            "max": 363423424,
            "_view_module": "@jupyter-widgets/controls",
            "_model_module_version": "1.5.0",
            "value": 363423424,
            "_view_count": null,
            "_view_module_version": "1.5.0",
            "orientation": "horizontal",
            "min": 0,
            "description_tooltip": null,
            "_model_module": "@jupyter-widgets/controls",
            "layout": "IPY_MODEL_d81dd068b3704dfb9235b13e2ff2e1a5"
          }
        },
        "dfab234810124e478b793a6dcb1f197b": {
          "model_module": "@jupyter-widgets/controls",
          "model_name": "HTMLModel",
          "state": {
            "_view_name": "HTMLView",
            "style": "IPY_MODEL_e8b35b32c2cf4145ad90096d539b8f37",
            "_dom_classes": [],
            "description": "",
            "_model_name": "HTMLModel",
            "placeholder": "​",
            "_view_module": "@jupyter-widgets/controls",
            "_model_module_version": "1.5.0",
            "value": " 363M/363M [00:12&lt;00:00, 30.1MB/s]",
            "_view_count": null,
            "_view_module_version": "1.5.0",
            "description_tooltip": null,
            "_model_module": "@jupyter-widgets/controls",
            "layout": "IPY_MODEL_488f6113d18f492ea52ae7cc81c4c733"
          }
        },
        "bab4d5b559d24c439102d12654ec89e2": {
          "model_module": "@jupyter-widgets/controls",
          "model_name": "ProgressStyleModel",
          "state": {
            "_view_name": "StyleView",
            "_model_name": "ProgressStyleModel",
            "description_width": "initial",
            "_view_module": "@jupyter-widgets/base",
            "_model_module_version": "1.5.0",
            "_view_count": null,
            "_view_module_version": "1.2.0",
            "bar_color": null,
            "_model_module": "@jupyter-widgets/controls"
          }
        },
        "d81dd068b3704dfb9235b13e2ff2e1a5": {
          "model_module": "@jupyter-widgets/base",
          "model_name": "LayoutModel",
          "state": {
            "_view_name": "LayoutView",
            "grid_template_rows": null,
            "right": null,
            "justify_content": null,
            "_view_module": "@jupyter-widgets/base",
            "overflow": null,
            "_model_module_version": "1.2.0",
            "_view_count": null,
            "flex_flow": null,
            "width": null,
            "min_width": null,
            "border": null,
            "align_items": null,
            "bottom": null,
            "_model_module": "@jupyter-widgets/base",
            "top": null,
            "grid_column": null,
            "overflow_y": null,
            "overflow_x": null,
            "grid_auto_flow": null,
            "grid_area": null,
            "grid_template_columns": null,
            "flex": null,
            "_model_name": "LayoutModel",
            "justify_items": null,
            "grid_row": null,
            "max_height": null,
            "align_content": null,
            "visibility": null,
            "align_self": null,
            "height": null,
            "min_height": null,
            "padding": null,
            "grid_auto_rows": null,
            "grid_gap": null,
            "max_width": null,
            "order": null,
            "_view_module_version": "1.2.0",
            "grid_template_areas": null,
            "object_position": null,
            "object_fit": null,
            "grid_auto_columns": null,
            "margin": null,
            "display": null,
            "left": null
          }
        },
        "e8b35b32c2cf4145ad90096d539b8f37": {
          "model_module": "@jupyter-widgets/controls",
          "model_name": "DescriptionStyleModel",
          "state": {
            "_view_name": "StyleView",
            "_model_name": "DescriptionStyleModel",
            "description_width": "",
            "_view_module": "@jupyter-widgets/base",
            "_model_module_version": "1.5.0",
            "_view_count": null,
            "_view_module_version": "1.2.0",
            "_model_module": "@jupyter-widgets/controls"
          }
        },
        "488f6113d18f492ea52ae7cc81c4c733": {
          "model_module": "@jupyter-widgets/base",
          "model_name": "LayoutModel",
          "state": {
            "_view_name": "LayoutView",
            "grid_template_rows": null,
            "right": null,
            "justify_content": null,
            "_view_module": "@jupyter-widgets/base",
            "overflow": null,
            "_model_module_version": "1.2.0",
            "_view_count": null,
            "flex_flow": null,
            "width": null,
            "min_width": null,
            "border": null,
            "align_items": null,
            "bottom": null,
            "_model_module": "@jupyter-widgets/base",
            "top": null,
            "grid_column": null,
            "overflow_y": null,
            "overflow_x": null,
            "grid_auto_flow": null,
            "grid_area": null,
            "grid_template_columns": null,
            "flex": null,
            "_model_name": "LayoutModel",
            "justify_items": null,
            "grid_row": null,
            "max_height": null,
            "align_content": null,
            "visibility": null,
            "align_self": null,
            "height": null,
            "min_height": null,
            "padding": null,
            "grid_auto_rows": null,
            "grid_gap": null,
            "max_width": null,
            "order": null,
            "_view_module_version": "1.2.0",
            "grid_template_areas": null,
            "object_position": null,
            "object_fit": null,
            "grid_auto_columns": null,
            "margin": null,
            "display": null,
            "left": null
          }
        }
      }
    }
  },
  "cells": [
    {
      "cell_type": "markdown",
      "metadata": {
        "id": "view-in-github",
        "colab_type": "text"
      },
      "source": [
        "<a href=\"https://colab.research.google.com/github/NikV-JS/Reddit-Flair-Detector/blob/master/Notebooks/Reddit_Flair_Detector(Part_3).ipynb\" target=\"_parent\"><img src=\"https://colab.research.google.com/assets/colab-badge.svg\" alt=\"Open In Colab\"/></a>"
      ]
    },
    {
      "cell_type": "markdown",
      "metadata": {
        "id": "RMW3rJApgCeO",
        "colab_type": "text"
      },
      "source": [
        "This notebook deals with the training of Deep Learning model for Reddit Flair Prediction and analysis of the classification results."
      ]
    },
    {
      "cell_type": "code",
      "metadata": {
        "id": "zE_8MY9KFX2Y",
        "colab_type": "code",
        "colab": {}
      },
      "source": [
        "# Installing the required modules\n",
        "!pip install -q tensorflow_gpu>=2.0 pandas ktrain "
      ],
      "execution_count": 0,
      "outputs": []
    },
    {
      "cell_type": "code",
      "metadata": {
        "id": "jb2QjOfyJEra",
        "colab_type": "code",
        "outputId": "8d5ac177-cf54-4352-c67d-9db63feae1a9",
        "colab": {
          "base_uri": "https://localhost:8080/",
          "height": 35
        }
      },
      "source": [
        "# Importing necessary modules\n",
        "import tensorflow as tf\n",
        "print(tf.__version__)"
      ],
      "execution_count": 0,
      "outputs": [
        {
          "output_type": "stream",
          "text": [
            "2.1.0\n"
          ],
          "name": "stdout"
        }
      ]
    },
    {
      "cell_type": "code",
      "metadata": {
        "id": "aunZmNpfPDfJ",
        "colab_type": "code",
        "outputId": "742ebd2d-7d0b-405a-d885-d0f27db39780",
        "colab": {
          "base_uri": "https://localhost:8080/",
          "height": 35
        }
      },
      "source": [
        "tf.test.gpu_device_name()"
      ],
      "execution_count": 0,
      "outputs": [
        {
          "output_type": "execute_result",
          "data": {
            "text/plain": [
              "'/device:GPU:0'"
            ]
          },
          "metadata": {
            "tags": []
          },
          "execution_count": 3
        }
      ]
    },
    {
      "cell_type": "code",
      "metadata": {
        "id": "Ug37O9wBJ1IO",
        "colab_type": "code",
        "colab": {}
      },
      "source": [
        "import pandas as pd\n",
        "import numpy as np"
      ],
      "execution_count": 0,
      "outputs": []
    },
    {
      "cell_type": "code",
      "metadata": {
        "id": "nLPD9aJxKm2C",
        "colab_type": "code",
        "colab": {}
      },
      "source": [
        "# Loading Train, Validation, and Test Data as Pandas DataFrame\n",
        "Train_data = pd.read_csv('/content/Train_Data.csv')\n",
        "Val_data = pd.read_csv('/content/Val_Data.csv')\n",
        "Test_data = pd.read_csv('/content/Test_Data.csv')"
      ],
      "execution_count": 0,
      "outputs": []
    },
    {
      "cell_type": "code",
      "metadata": {
        "id": "LrsqfHvtKPk4",
        "colab_type": "code",
        "outputId": "2948b2e6-4a85-4524-bd7a-483abab27281",
        "colab": {
          "base_uri": "https://localhost:8080/",
          "height": 225
        }
      },
      "source": [
        "# Print the 12 Flair Categories\n",
        "flairs = list(set(Train_data['flair']))\n",
        "flairs"
      ],
      "execution_count": 0,
      "outputs": [
        {
          "output_type": "execute_result",
          "data": {
            "text/plain": [
              "['Food',\n",
              " 'AskIndia',\n",
              " 'Politics',\n",
              " 'Non-Political',\n",
              " 'Scheduled',\n",
              " 'Policy/Economy',\n",
              " 'CAA-NRC-NPR',\n",
              " 'Science/Technology',\n",
              " 'Business/Finance',\n",
              " 'Photography',\n",
              " 'Coronavirus',\n",
              " 'Sports']"
            ]
          },
          "metadata": {
            "tags": []
          },
          "execution_count": 6
        }
      ]
    },
    {
      "cell_type": "code",
      "metadata": {
        "id": "ppw7HJlaLR-o",
        "colab_type": "code",
        "outputId": "ac2121c0-d0f7-48d3-ffc3-4ca47e400e85",
        "colab": {
          "base_uri": "https://localhost:8080/",
          "height": 69
        }
      },
      "source": [
        "# Print size of training, validation and testing set\n",
        "print('size of training set: %s' % (len(Train_data['Text'])))\n",
        "print('size of validation set: %s' % (len(Val_data['Text'])))\n",
        "print('size of testing set: %s' % (len(Test_data['Text'])))"
      ],
      "execution_count": 0,
      "outputs": [
        {
          "output_type": "stream",
          "text": [
            "size of training set: 3600\n",
            "size of validation set: 1200\n",
            "size of testing set: 1200\n"
          ],
          "name": "stdout"
        }
      ]
    },
    {
      "cell_type": "code",
      "metadata": {
        "id": "mHS4PxmDLrLO",
        "colab_type": "code",
        "colab": {}
      },
      "source": [
        "# Splitting the datasets into input and target labels for deep learning model\n",
        "x_train = Train_data['Text']\n",
        "y_train = Train_data['flair']\n",
        "x_val = Val_data['Text']\n",
        "y_val = Val_data['flair']\n",
        "x_test = Test_data['Text']\n",
        "y_test = Test_data['flair']"
      ],
      "execution_count": 0,
      "outputs": []
    },
    {
      "cell_type": "markdown",
      "metadata": {
        "id": "-xhcMVU9g4hK",
        "colab_type": "text"
      },
      "source": [
        "The Deep Learning (DL) Model I chose for the task of Reddit flair prediction is XLNet introduced by Google Brain and CMU. To understand the intuition behind choosing XLNet let's dive into some Natural Language Processing (NLP) history. Reddit Flair Prediction comes under the domain of Text Classification as we are trying to classify a collection of words under a post. The generic approach towards text classification 3 years back was to use Machine Learning (ML) Algorithms such as Logistic Regression, Random Forest. For these methods, the general approach was to first pre-process the data to remove stopwords and punctuations and then use word to vector embeddings so that they can apply the ML algorithm. Through NLP studies it was quite evident that stopwords and punctuations tend to contain useful information for the model to percieve but in general the frequency of stopwords is very high in text thereby increasing the sequence length. As the sequence length increases the performance of the standard ML algorithms decreases. \n",
        "\n",
        "So as Deep Learning Models improved and started to be applied to NLP, Google introduced transformers (attention based encoder-decoder) for NLP applications. In 2018, a wide range of Language Models were introduced with the main focus being on Google's BERT. Language Models were based on Deep Learning Models and they overcame the drawbacks of classic ML algorithms. Language Models had a large potential for application in various fields of NLP. Language Models application was based on transfer learning. For Deep Learning models the size of the dataset plays an important role in model overfitting and model generalization capability. Language Models have two phases that is pretrain phase and finetune phase. In the pretrain phase these Langauge Models are trained on large corpuses of text thereby allowing the model to gain contextual information of english language. The pretrain phase is where the XLNet (based on Transformer-XL) differs from BERT. The XLNet model uses Permutation Langauge Modeling (PLM) which enables it to have greater generalization capability and language understanding above BERT. This feature of XLNet enables it to outperform BERT in text classification. In finetune phase Language Models require small amount of data in application domain to achieve great performance. So using transfer learning with XLNet on our dataset enables for a great classification ability even with a small dataset. Another advantage of Langauge Models is that they use tokenization as pre-processing for data thereby preserving the information in stopwords and punctuations leading to better langauge understanding. These factors compelled me towards using XLNet for Reddit Flair Detection.\n",
        "\n",
        "Google Brain and CMU have open sourced the pre-trained XLNet model for application in different domains. The Hugging Face Transformers python package contains most of the pre-trained Language Models. In Pytorch, FASTAI enables us to deploy langauge models easily. For this project I decided to use Tensorflow 2.1.0 . For training (finetuning) and validation of pretrained XLNet model  I used Ktrain , a lightweight wrapper for keras, which contains the pretrained Language Models from Hugging Face Transformers package. Firstly, Ktrain tokenizes (pre-processes) the data into the required format of the language model, here XLNet. XLNet is of two sizes. Here the XLNet Base version (smaller one) is used. Then accordingly a Keras model is created with pre-loaded weights. The following code is the procedure used to train XLNet for Reddit Flair Detection.\n",
        "\n",
        "\n",
        "\n",
        "\n",
        "\n",
        "\n"
      ]
    },
    {
      "cell_type": "code",
      "metadata": {
        "id": "1arjF5I9MnzQ",
        "colab_type": "code",
        "outputId": "3f0a5214-2445-48ff-b847-44881bcfaa7e",
        "colab": {
          "base_uri": "https://localhost:8080/",
          "height": 428,
          "referenced_widgets": [
            "2a8340ff598a4202a439608366056438",
            "acef594edb304ef8b0aa6bfa4e41d6f0",
            "bbe43967d2d14bdabb71aa9db122db82",
            "bcaab522e9b147019c6ae136a3d2f9da",
            "e6492158af8d4a7c91882d8b0581c76d",
            "83d34595b04a4423818fb04fb972716f",
            "7033a3d7dcad4cacb5728978d9ede634",
            "95125e525a94415ea8e8dbede49f169d",
            "905a1042de77421897ed2bd58988ae41",
            "8899a0827eed47d59d0edc4a8aca3ff0",
            "a22d226964f647ec9b99672ff7bea201",
            "22dc4c18bcc74b9c80744f2080120a87",
            "d7efc1ac63d64cb19e0f51095737aabc",
            "4217d274f3b0486f9fc903a4e4d2fda1",
            "0e82d1afa49f494081b05b32490bfabd",
            "63919f68fa1648b8b91d8212467967a6",
            "1eb52a451b9244b9a3e389ef1a73d7bd",
            "65d101e1e4304f668deb8032c96d1c62",
            "7cd7b9889162403cae946c28ceec54c6",
            "18d4212580f64729ab9dc17917921ed6",
            "87b9bd69f2b3479ea32a10f23f0f3769",
            "fd2374a8246947f1aea45d226832719a",
            "9e4da91130a94379a6bb4d46bc098608",
            "fe9064e729fd4a0ea9505bba86764c5d"
          ]
        }
      },
      "source": [
        "# Import ktrain module, preprocess the training and validation data\n",
        "# and initialize XLNet model\n",
        "import ktrain\n",
        "from ktrain import text\n",
        "MODEL_NAME = 'xlnet-base-cased'\n",
        "t = text.Transformer(MODEL_NAME, maxlen=500, class_names=flairs)\n",
        "train = t.preprocess_train(x_train, y_train)\n",
        "val = t.preprocess_test(x_val, y_val)\n",
        "model = t.get_classifier()\n",
        "learner = ktrain.get_learner(model, train_data=train, val_data=val, batch_size=6)"
      ],
      "execution_count": 0,
      "outputs": [
        {
          "output_type": "display_data",
          "data": {
            "application/vnd.jupyter.widget-view+json": {
              "model_id": "2a8340ff598a4202a439608366056438",
              "version_minor": 0,
              "version_major": 2
            },
            "text/plain": [
              "HBox(children=(IntProgress(value=0, description='Downloading', max=798011, style=ProgressStyle(description_wid…"
            ]
          },
          "metadata": {
            "tags": []
          }
        },
        {
          "output_type": "stream",
          "text": [
            "\n",
            "preprocessing train...\n",
            "language: en\n",
            "train sequence lengths:\n",
            "\tmean : 63\n",
            "\t95percentile : 237\n",
            "\t99percentile : 951\n"
          ],
          "name": "stdout"
        },
        {
          "output_type": "stream",
          "text": [
            "/usr/local/lib/python3.6/dist-packages/ktrain/text/preprocessor.py:478: UserWarning: class_names argument was ignored, as they were extracted from string labels in dataset\n",
            "  if self.get_classes(): warnings.warn('class_names argument was ignored, as they were extracted from string labels in dataset')\n"
          ],
          "name": "stderr"
        },
        {
          "output_type": "display_data",
          "data": {
            "text/html": [
              ""
            ],
            "text/plain": [
              "<IPython.core.display.HTML object>"
            ]
          },
          "metadata": {
            "tags": []
          }
        },
        {
          "output_type": "stream",
          "text": [
            "preprocessing test...\n",
            "language: en\n",
            "test sequence lengths:\n",
            "\tmean : 60\n",
            "\t95percentile : 296\n",
            "\t99percentile : 850\n"
          ],
          "name": "stdout"
        },
        {
          "output_type": "display_data",
          "data": {
            "text/html": [
              ""
            ],
            "text/plain": [
              "<IPython.core.display.HTML object>"
            ]
          },
          "metadata": {
            "tags": []
          }
        },
        {
          "output_type": "display_data",
          "data": {
            "application/vnd.jupyter.widget-view+json": {
              "model_id": "905a1042de77421897ed2bd58988ae41",
              "version_minor": 0,
              "version_major": 2
            },
            "text/plain": [
              "HBox(children=(IntProgress(value=0, description='Downloading', max=777, style=ProgressStyle(description_width=…"
            ]
          },
          "metadata": {
            "tags": []
          }
        },
        {
          "output_type": "stream",
          "text": [
            "\n"
          ],
          "name": "stdout"
        },
        {
          "output_type": "display_data",
          "data": {
            "application/vnd.jupyter.widget-view+json": {
              "model_id": "1eb52a451b9244b9a3e389ef1a73d7bd",
              "version_minor": 0,
              "version_major": 2
            },
            "text/plain": [
              "HBox(children=(IntProgress(value=0, description='Downloading', max=565485600, style=ProgressStyle(description_…"
            ]
          },
          "metadata": {
            "tags": []
          }
        },
        {
          "output_type": "stream",
          "text": [
            "\n"
          ],
          "name": "stdout"
        }
      ]
    },
    {
      "cell_type": "markdown",
      "metadata": {
        "id": "5Avc5Fa42ITg",
        "colab_type": "text"
      },
      "source": [
        "Before the training of the model is initialized, it is a good practice to find out the optimal learning rate for the model. Advanced APIs such as FASTAI and Ktrain enable us to find the optimal learning rate by simulating training for few epochs at different learning rates and plotting a loss vs learning rate graph. Through observation of the loss trend the optimal learning rate can be decided."
      ]
    },
    {
      "cell_type": "code",
      "metadata": {
        "id": "yVtOOvwiN0kT",
        "colab_type": "code",
        "outputId": "acbd9855-53ea-4669-adf8-4c4cadba1e70",
        "colab": {
          "base_uri": "https://localhost:8080/",
          "height": 422
        }
      },
      "source": [
        "learner.lr_find(show_plot=True, max_epochs=2)"
      ],
      "execution_count": 0,
      "outputs": [
        {
          "output_type": "stream",
          "text": [
            "simulating training for different learning rates... this may take a few moments...\n",
            "Train for 600 steps\n",
            "Epoch 1/2\n",
            "600/600 [==============================] - 1628s 3s/step - loss: 2.4240 - accuracy: 0.1564\n",
            "Epoch 2/2\n",
            "195/600 [========>.....................] - ETA: 18:18 - loss: 4.9945 - accuracy: 0.0983\n",
            "\n",
            "done.\n"
          ],
          "name": "stdout"
        },
        {
          "output_type": "display_data",
          "data": {
            "image/png": "[encoded data removed]",
            "text/plain": [
              "<Figure size 432x288 with 1 Axes>"
            ]
          },
          "metadata": {
            "tags": []
          }
        }
      ]
    },
    {
      "cell_type": "markdown",
      "metadata": {
        "id": "cm2nuvfx4QZZ",
        "colab_type": "text"
      },
      "source": [
        "On observing the plot, it can be seen that 5e-5 is an optimal learning rate. Now we start training the model based on onecycle policy initially for 4 epochs to see if there is improvement of model performance as training continues."
      ]
    },
    {
      "cell_type": "code",
      "metadata": {
        "id": "D4c-vLG8aVZr",
        "colab_type": "code",
        "outputId": "1d49ae59-4539-4f85-b2ca-64b6c68d62ac",
        "colab": {
          "base_uri": "https://localhost:8080/",
          "height": 243
        }
      },
      "source": [
        "learner.fit_onecycle(5e-5, 4)"
      ],
      "execution_count": 0,
      "outputs": [
        {
          "output_type": "stream",
          "text": [
            "\n",
            "\n",
            "begin training using onecycle policy with max lr of 5e-05...\n",
            "Train for 600 steps, validate for 38 steps\n",
            "Epoch 1/4\n",
            "600/600 [==============================] - 1825s 3s/step - loss: 2.0359 - accuracy: 0.3211 - val_loss: 1.4058 - val_accuracy: 0.5642\n",
            "Epoch 2/4\n",
            "600/600 [==============================] - 1778s 3s/step - loss: 1.3207 - accuracy: 0.5775 - val_loss: 1.3196 - val_accuracy: 0.5800\n",
            "Epoch 3/4\n",
            "600/600 [==============================] - 1789s 3s/step - loss: 0.9221 - accuracy: 0.7139 - val_loss: 1.3131 - val_accuracy: 0.6183\n",
            "Epoch 4/4\n",
            "600/600 [==============================] - 1790s 3s/step - loss: 0.4841 - accuracy: 0.8606 - val_loss: 1.2643 - val_accuracy: 0.6575\n"
          ],
          "name": "stdout"
        },
        {
          "output_type": "execute_result",
          "data": {
            "text/plain": [
              "<tensorflow.python.keras.callbacks.History at 0x7f679f3c1f60>"
            ]
          },
          "metadata": {
            "tags": []
          },
          "execution_count": 16
        }
      ]
    },
    {
      "cell_type": "markdown",
      "metadata": {
        "id": "Cg3ozWlJ4y-f",
        "colab_type": "text"
      },
      "source": [
        "It can be seen that the model is learning and the validation accuracy is improving."
      ]
    },
    {
      "cell_type": "code",
      "metadata": {
        "id": "zBL0Dezh7ARJ",
        "colab_type": "code",
        "colab": {}
      },
      "source": [
        "learner.save_model('Model-1')"
      ],
      "execution_count": 0,
      "outputs": []
    },
    {
      "cell_type": "code",
      "metadata": {
        "id": "I3faMbxEUo7n",
        "colab_type": "code",
        "colab": {}
      },
      "source": [
        "learner.load_model('/content/drive/My Drive/Model-XLNet', t)"
      ],
      "execution_count": 0,
      "outputs": []
    },
    {
      "cell_type": "markdown",
      "metadata": {
        "id": "iDyk2QlU47in",
        "colab_type": "text"
      },
      "source": [
        "Continue training the model for 5 more epochs based on onecycle policy."
      ]
    },
    {
      "cell_type": "code",
      "metadata": {
        "id": "NRFhH7Y87_LN",
        "colab_type": "code",
        "outputId": "3dfbff3d-ba6b-43fb-d14a-7dcbc08a41a4",
        "colab": {
          "base_uri": "https://localhost:8080/",
          "height": 277
        }
      },
      "source": [
        "learner.fit_onecycle(5e-5, 5, checkpoint_folder='/content/drive/My Drive/Model-XLNet')"
      ],
      "execution_count": 0,
      "outputs": [
        {
          "output_type": "stream",
          "text": [
            "\n",
            "\n",
            "begin training using onecycle policy with max lr of 5e-05...\n",
            "Train for 600 steps, validate for 38 steps\n",
            "Epoch 1/5\n",
            "600/600 [==============================] - 642s 1s/step - loss: 0.3467 - accuracy: 0.8997 - val_loss: 1.4501 - val_accuracy: 0.6333\n",
            "Epoch 2/5\n",
            "600/600 [==============================] - 628s 1s/step - loss: 0.4173 - accuracy: 0.8742 - val_loss: 1.5659 - val_accuracy: 0.6183\n",
            "Epoch 3/5\n",
            "600/600 [==============================] - 612s 1s/step - loss: 0.4657 - accuracy: 0.8600 - val_loss: 1.6758 - val_accuracy: 0.5983\n",
            "Epoch 4/5\n",
            "600/600 [==============================] - 611s 1s/step - loss: 0.2539 - accuracy: 0.9281 - val_loss: 1.7356 - val_accuracy: 0.6283\n",
            "Epoch 5/5\n",
            "600/600 [==============================] - 611s 1s/step - loss: 0.1004 - accuracy: 0.9714 - val_loss: 1.7935 - val_accuracy: 0.6333\n"
          ],
          "name": "stdout"
        },
        {
          "output_type": "execute_result",
          "data": {
            "text/plain": [
              "<tensorflow.python.keras.callbacks.History at 0x7fb091000c88>"
            ]
          },
          "metadata": {
            "tags": []
          },
          "execution_count": 14
        }
      ]
    },
    {
      "cell_type": "markdown",
      "metadata": {
        "id": "8zLkEQYp5Hky",
        "colab_type": "text"
      },
      "source": [
        "It can be observed that the validation accuracy is reaching a plateau. So now to finish the model training, the approach is to use early stopping and reducing learning rate on reaching a plateau. These features are inbuilt into the autofit function of Ktrain. Early stopping prevents the model from overfitting on the training dataset. "
      ]
    },
    {
      "cell_type": "code",
      "metadata": {
        "id": "JLrEl_EM0spt",
        "colab_type": "code",
        "outputId": "08036c3c-41c7-4704-8ead-fee012c152a7",
        "colab": {
          "base_uri": "https://localhost:8080/",
          "height": 468
        }
      },
      "source": [
        "learner.autofit(2e-5)"
      ],
      "execution_count": 0,
      "outputs": [
        {
          "output_type": "stream",
          "text": [
            "early_stopping automatically enabled at patience=5\n",
            "reduce_on_plateau automatically enabled at patience=2\n",
            "\n",
            "\n",
            "begin training using triangular learning rate policy with max lr of 2e-05...\n",
            "Train for 600 steps, validate for 38 steps\n",
            "Epoch 1/1024\n",
            "600/600 [==============================] - 612s 1s/step - loss: 0.0662 - accuracy: 0.9842 - val_loss: 1.8815 - val_accuracy: 0.6425\n",
            "Epoch 2/1024\n",
            "600/600 [==============================] - 610s 1s/step - loss: 0.0550 - accuracy: 0.9856 - val_loss: 1.9893 - val_accuracy: 0.6358\n",
            "Epoch 3/1024\n",
            "599/600 [============================>.] - ETA: 0s - loss: 0.0686 - accuracy: 0.9786\n",
            "Epoch 00003: Reducing Max LR on Plateau: new max lr will be 1e-05 (if not early_stopping).\n",
            "600/600 [==============================] - 610s 1s/step - loss: 0.0685 - accuracy: 0.9786 - val_loss: 1.9771 - val_accuracy: 0.6358\n",
            "Epoch 4/1024\n",
            "600/600 [==============================] - 610s 1s/step - loss: 0.0404 - accuracy: 0.9875 - val_loss: 1.9841 - val_accuracy: 0.6425\n",
            "Epoch 5/1024\n",
            "599/600 [============================>.] - ETA: 0s - loss: 0.0371 - accuracy: 0.9894\n",
            "Epoch 00005: Reducing Max LR on Plateau: new max lr will be 5e-06 (if not early_stopping).\n",
            "600/600 [==============================] - 610s 1s/step - loss: 0.0370 - accuracy: 0.9894 - val_loss: 2.0939 - val_accuracy: 0.6308\n",
            "Epoch 6/1024\n",
            "599/600 [============================>.] - ETA: 0s - loss: 0.0293 - accuracy: 0.9911Restoring model weights from the end of the best epoch.\n",
            "600/600 [==============================] - 610s 1s/step - loss: 0.0292 - accuracy: 0.9911 - val_loss: 2.1200 - val_accuracy: 0.6283\n",
            "Epoch 00006: early stopping\n",
            "Weights from best epoch have been loaded into model.\n"
          ],
          "name": "stdout"
        },
        {
          "output_type": "execute_result",
          "data": {
            "text/plain": [
              "<tensorflow.python.keras.callbacks.History at 0x7fad537e0d68>"
            ]
          },
          "metadata": {
            "tags": []
          },
          "execution_count": 16
        }
      ]
    },
    {
      "cell_type": "markdown",
      "metadata": {
        "id": "RAKkCjOI6NbB",
        "colab_type": "text"
      },
      "source": [
        "Now the model training has been successfully finished and XLNet model with Validation accuracy of 64.25 % has been obtained. Since the validation and test data set are of similar distribution, it is expected that the Test accuracy is also around 65 %. The following code is used to obtain precision, recall, f1-score for each flair category in the dataset. Also the confusion matrix is obtained and plotted for detailed analysis. "
      ]
    },
    {
      "cell_type": "code",
      "metadata": {
        "id": "bBHHlwUrDeol",
        "colab_type": "code",
        "outputId": "640ed2ce-411e-42e9-f2c7-17b8d6f00dc4",
        "colab": {
          "base_uri": "https://localhost:8080/",
          "height": 347
        }
      },
      "source": [
        "cm_val = learner.validate(val_data=val, class_names=flairs)"
      ],
      "execution_count": 0,
      "outputs": [
        {
          "output_type": "stream",
          "text": [
            "                    precision    recall  f1-score   support\n",
            "\n",
            "       CAA-NRC-NPR       0.62      0.67      0.64       148\n",
            "    Policy/Economy       0.54      0.55      0.54        94\n",
            "Science/Technology       0.91      0.88      0.89        24\n",
            "          Politics       0.92      0.95      0.93        58\n",
            "            Sports       0.74      0.79      0.76        98\n",
            "          AskIndia       0.36      0.46      0.41       148\n",
            "     Non-Political       0.86      0.72      0.78        92\n",
            "       Coronavirus       0.44      0.49      0.46        98\n",
            "       Photography       0.65      0.61      0.63       151\n",
            "  Business/Finance       0.87      0.77      0.82       104\n",
            "         Scheduled       0.58      0.48      0.52        94\n",
            "              Food       0.93      0.75      0.83        91\n",
            "\n",
            "          accuracy                           0.64      1200\n",
            "         macro avg       0.70      0.68      0.69      1200\n",
            "      weighted avg       0.66      0.64      0.65      1200\n",
            "\n"
          ],
          "name": "stdout"
        }
      ]
    },
    {
      "cell_type": "markdown",
      "metadata": {
        "id": "2uVg3g8S4gBV",
        "colab_type": "text"
      },
      "source": [
        "On observation of the F1-score for all the 12 flair categories it can be inferred that the XLNet model shows good performance on almost all flair categories with some hinderance in AskIndia and Coronavirus category. We can see that the model does exceptionally good in classifying flairs of category 'Science/Technology', 'Politics', 'Business/Finance'and 'Food'. We can also see that the model displays a good performance in 'Non-political', and 'Sports'.\n",
        "\n",
        "Next step will be to plot the Confusion Matrix for the validation set for further analysis. A Confusion Matrix is a performance measurement for Machine Learning and also DL Methods. Confusion Matrix is widely used for describing performance of Classification models and it allows the visualization of performance of classifier. The confusion matrix shows the ways in which your classification model is confused when it makes predictions. It gives us insight not only into the mistakes being made by a classifier but more importantly the types of mistakes that are being made."
      ]
    },
    {
      "cell_type": "code",
      "metadata": {
        "id": "BXdeZjzCpJLP",
        "colab_type": "code",
        "outputId": "f3f3975f-a5f5-4727-b81a-13b43d09c7aa",
        "colab": {
          "base_uri": "https://localhost:8080/",
          "height": 533
        }
      },
      "source": [
        "import seaborn as sn\n",
        "import pandas as pd\n",
        "import matplotlib.pyplot as plt\n",
        "\n",
        "df_cm = pd.DataFrame(cm_val, index = [i for i in flairs],\n",
        "                  columns = [i for i in flairs])\n",
        "plt.figure(figsize = (10,7))\n",
        "sn.heatmap(df_cm, annot=True)"
      ],
      "execution_count": 0,
      "outputs": [
        {
          "output_type": "execute_result",
          "data": {
            "text/plain": [
              "<matplotlib.axes._subplots.AxesSubplot at 0x7f6c40183e48>"
            ]
          },
          "metadata": {
            "tags": []
          },
          "execution_count": 12
        },
        {
          "output_type": "display_data",
          "data": {
            "image/png": "[encoded data removed]",
            "text/plain": [
              "<Figure size 720x504 with 2 Axes>"
            ]
          },
          "metadata": {
            "tags": [],
            "needs_background": "light"
          }
        }
      ]
    },
    {
      "cell_type": "markdown",
      "metadata": {
        "id": "lT7kOT23L4tn",
        "colab_type": "text"
      },
      "source": [
        "In the confusion matrix the row index indicates predicted class and the column index indicates actual class. On analysis of the heatmap of confusion matrix, we can see that the XLNet model shows good performance across all 12 flairs as depicted by the diagonal of the confusion matrix. Alligning with the stastical report we can see that the model has almost no confusion in predicting flairs of category 'Science/Technology', 'Politics', 'Business/Finance', 'Food'. An unexpected trend that can be detected is that there is a confusion between Photography and Coronavirus thereby resulting in a square in those blocks in the heatmap. Relatively the model has shown a lower performance in Coronavirus due to possible intersection of domains in the posts. This is clearly evident on observing the Coronavirus row. Another detected confusion is between Photography and AskIndia where most AskIndia posts are detected as Photography. Also there seems to be slight confusion between Non-Political and AskIndia posts. We can also infer the reason for relatively low performance in AskIndia category through the Confusion Matrix. On observation of AskIndia column we can see that classification of AskIndia posts has confusion across most of the column thereby indicating intersecting domains or topics as a possible reason. In AskIndia posts this scenario is totally possible because they are questions based on various topics.\n",
        "\n",
        "Thus, through this analysis we gain a good insight of Model performance as in where it works and where the performance might be hindered. Now the next step will be to verify the effectiveness of model by validating on test set and see if the same insights hold true. Also the test set will be an indicator of real world accuracy."
      ]
    },
    {
      "cell_type": "markdown",
      "metadata": {
        "id": "MX8Cr3TP_Evn",
        "colab_type": "text"
      },
      "source": [
        "Next, the test data is preprocessed so that we can find out the test accuracy. Since the XLNet model has not been exposed to the test data prior to testing. The test accuracy can be an indicator of real world accuracy on the respective 12 flair categories."
      ]
    },
    {
      "cell_type": "code",
      "metadata": {
        "id": "zcL6CM1tEO8t",
        "colab_type": "code",
        "outputId": "4529d062-466e-42ef-83e9-f376ce8fa026",
        "colab": {
          "base_uri": "https://localhost:8080/",
          "height": 121
        }
      },
      "source": [
        "test = t.preprocess_test(x_test, y_test)"
      ],
      "execution_count": 0,
      "outputs": [
        {
          "output_type": "stream",
          "text": [
            "preprocessing test...\n",
            "language: en\n",
            "test sequence lengths:\n",
            "\tmean : 65\n",
            "\t95percentile : 257\n",
            "\t99percentile : 907\n"
          ],
          "name": "stdout"
        },
        {
          "output_type": "display_data",
          "data": {
            "text/html": [
              ""
            ],
            "text/plain": [
              "<IPython.core.display.HTML object>"
            ]
          },
          "metadata": {
            "tags": []
          }
        }
      ]
    },
    {
      "cell_type": "code",
      "metadata": {
        "id": "aeMrjG2eEIAv",
        "colab_type": "code",
        "outputId": "a2811679-a746-491b-b11b-83f8d5a72843",
        "colab": {
          "base_uri": "https://localhost:8080/",
          "height": 347
        }
      },
      "source": [
        "# Validating model on Test data\n",
        "cm_test = learner.validate(val_data=test, class_names=flairs)"
      ],
      "execution_count": 0,
      "outputs": [
        {
          "output_type": "stream",
          "text": [
            "                    precision    recall  f1-score   support\n",
            "\n",
            "       CAA-NRC-NPR       0.68      0.73      0.71       147\n",
            "    Policy/Economy       0.68      0.64      0.66       115\n",
            "Science/Technology       0.92      0.96      0.94        25\n",
            "          Politics       0.90      0.93      0.91        46\n",
            "            Sports       0.68      0.73      0.70        95\n",
            "          AskIndia       0.37      0.42      0.39       135\n",
            "     Non-Political       0.85      0.73      0.79       101\n",
            "       Coronavirus       0.55      0.61      0.58        94\n",
            "       Photography       0.66      0.62      0.64       148\n",
            "  Business/Finance       0.85      0.82      0.84       107\n",
            "         Scheduled       0.58      0.45      0.51        98\n",
            "              Food       0.77      0.80      0.78        89\n",
            "\n",
            "          accuracy                           0.67      1200\n",
            "         macro avg       0.71      0.70      0.70      1200\n",
            "      weighted avg       0.67      0.67      0.67      1200\n",
            "\n"
          ],
          "name": "stdout"
        }
      ]
    },
    {
      "cell_type": "markdown",
      "metadata": {
        "id": "WBn6N5DRSgJG",
        "colab_type": "text"
      },
      "source": [
        "We can observe that the XLNet model has achieved a final test accuracy of 67 %. It displays great performance across all 12 flairs except AskIndia which is inline with the performance observed on validation dataset. Alligning with the validation performance, the model works exceptionally good on 'Science/Technology', 'Politics', 'Business/Finance', 'Food' and 'Non-Political'. We can see consistent performance in the model across both validation and test sets.\n",
        "\n",
        "Next, the confusion marix is also plotted to see if the same trend can be observed."
      ]
    },
    {
      "cell_type": "code",
      "metadata": {
        "id": "FiV7YHNWqxSP",
        "colab_type": "code",
        "outputId": "ca7a30fe-65e8-4aed-b0f0-8c2b7c44627e",
        "colab": {
          "base_uri": "https://localhost:8080/",
          "height": 533
        }
      },
      "source": [
        "df_cm_test = pd.DataFrame(cm_test, index = [i for i in flairs],\n",
        "                  columns = [i for i in flairs])\n",
        "plt.figure(figsize = (10,7))\n",
        "sn.heatmap(df_cm_test, annot=True)"
      ],
      "execution_count": 0,
      "outputs": [
        {
          "output_type": "execute_result",
          "data": {
            "text/plain": [
              "<matplotlib.axes._subplots.AxesSubplot at 0x7f6b380c69e8>"
            ]
          },
          "metadata": {
            "tags": []
          },
          "execution_count": 13
        },
        {
          "output_type": "display_data",
          "data": {
            "image/png": "[encoded data removed]",
            "text/plain": [
              "<Figure size 720x504 with 2 Axes>"
            ]
          },
          "metadata": {
            "tags": [],
            "needs_background": "light"
          }
        }
      ]
    },
    {
      "cell_type": "markdown",
      "metadata": {
        "id": "p85xKrOmWiPj",
        "colab_type": "text"
      },
      "source": [
        "As expected, the same trend is visible in the heatmap of the confusion matrix on test set. Similar to the validation set a confusion can be detected between Coronovirus and Photography, AskIndia and Non-Political. Also the same AskIndia trend can be seen. AskIndia category has confusion spread across all the 12 flair categories indicating that major topic intersection might be the main reason and also the reason being that the questions are spread across various domains.\n",
        "\n",
        "Finally, it can be concluded that the XLNet model has shown very good generalization capability in classifying the flairs. Even with a relatively small dataset we were able to obtain great results where only the slight confusion between Coronavirus and Photography seemed unreasonable, bearing in mind the Coronavirus flair was limited by the number of cases due to the Reddit limiations. Overall the model XLNet achieved good results and showed great potential in classifying flairs of Reddit Posts."
      ]
    },
    {
      "cell_type": "code",
      "metadata": {
        "id": "m04lbQrOG2T6",
        "colab_type": "code",
        "colab": {}
      },
      "source": [
        "# Saving XLNet model along with weigths\n",
        "learner.save_model('/content/drive/My Drive/Model-XLNet/model_XLNet')"
      ],
      "execution_count": 0,
      "outputs": []
    },
    {
      "cell_type": "code",
      "metadata": {
        "id": "vnSgg3cqHY11",
        "colab_type": "code",
        "colab": {}
      },
      "source": [
        "# Loading XLNet model and weights\n",
        "learner.load_model('/content/drive/My Drive/Models/model_XLNet', t)"
      ],
      "execution_count": 0,
      "outputs": []
    },
    {
      "cell_type": "markdown",
      "metadata": {
        "id": "sy8luaXHZU-u",
        "colab_type": "text"
      },
      "source": [
        "To wrap things up, I wanted to conduct a small study to observe the Inference Capability and language understanding of the model and compare it with human approach. For this purpose Ktrain has very good explainable AI functions which help in understanding the reason behind the model's predictions. Explainable AI involves methods and techniques to help understand how an AI model reach particular conclusions. Active research is being pursued in explainable AI but there are some established practices to determine behaviour of model."
      ]
    },
    {
      "cell_type": "code",
      "metadata": {
        "id": "pz4tUGm8V9pv",
        "colab_type": "code",
        "colab": {}
      },
      "source": [
        "# Configuring Pandas options to display full content of columns in DataFrame\n",
        "pd.set_option('display.max_colwidth', -1)"
      ],
      "execution_count": 0,
      "outputs": []
    },
    {
      "cell_type": "markdown",
      "metadata": {
        "id": "_jcYe0_4bWbe",
        "colab_type": "text"
      },
      "source": [
        "To understand the behaviour of the model, some interesting cases from the top losses in validation and test set are taken and studied."
      ]
    },
    {
      "cell_type": "code",
      "metadata": {
        "id": "iX9aOJDCVIXB",
        "colab_type": "code",
        "outputId": "50079ae1-6fd4-4fb7-e717-a63a1ba66373",
        "colab": {
          "base_uri": "https://localhost:8080/",
          "height": 537
        }
      },
      "source": [
        "learner.view_top_losses(n=10, preproc=t, val_data=val)"
      ],
      "execution_count": 0,
      "outputs": [
        {
          "output_type": "stream",
          "text": [
            "----------\n",
            "id:506 | loss:10.53 | true:Policy/Economy | pred:Sports)\n",
            "\n",
            "----------\n",
            "id:564 | loss:10.24 | true:Policy/Economy | pred:AskIndia)\n",
            "\n",
            "----------\n",
            "id:803 | loss:10.06 | true:Policy/Economy | pred:AskIndia)\n",
            "\n",
            "----------\n",
            "id:396 | loss:9.86 | true:Sports | pred:Policy/Economy)\n",
            "\n",
            "----------\n",
            "id:1040 | loss:9.68 | true:Scheduled | pred:Non-Political)\n",
            "\n",
            "----------\n",
            "id:113 | loss:9.65 | true:Policy/Economy | pred:AskIndia)\n",
            "\n",
            "----------\n",
            "id:596 | loss:9.56 | true:Photography | pred:AskIndia)\n",
            "\n",
            "----------\n",
            "id:732 | loss:9.49 | true:Photography | pred:AskIndia)\n",
            "\n",
            "----------\n",
            "id:239 | loss:9.46 | true:Scheduled | pred:Non-Political)\n",
            "\n",
            "----------\n",
            "id:445 | loss:9.32 | true:Scheduled | pred:Non-Political)\n",
            "\n"
          ],
          "name": "stdout"
        }
      ]
    },
    {
      "cell_type": "code",
      "metadata": {
        "id": "OJYrCzYaJi6y",
        "colab_type": "code",
        "outputId": "1d0d2e01-b4b2-41c3-84ae-900282d96894",
        "colab": {
          "base_uri": "https://localhost:8080/",
          "height": 737
        }
      },
      "source": [
        "Val_data.iloc[[506, 564, 803, 396, 1040, 113, 596, 732, 239, 445],:]"
      ],
      "execution_count": 0,
      "outputs": [
        {
          "output_type": "execute_result",
          "data": {
            "text/html": [
              "<div>\n",
              "<style scoped>\n",
              "    .dataframe tbody tr th:only-of-type {\n",
              "        vertical-align: middle;\n",
              "    }\n",
              "\n",
              "    .dataframe tbody tr th {\n",
              "        vertical-align: top;\n",
              "    }\n",
              "\n",
              "    .dataframe thead th {\n",
              "        text-align: right;\n",
              "    }\n",
              "</style>\n",
              "<table border=\"1\" class=\"dataframe\">\n",
              "  <thead>\n",
              "    <tr style=\"text-align: right;\">\n",
              "      <th></th>\n",
              "      <th>Text</th>\n",
              "      <th>flair</th>\n",
              "    </tr>\n",
              "  </thead>\n",
              "  <tbody>\n",
              "    <tr>\n",
              "      <th>506</th>\n",
              "      <td>MS Dhoni breaks silence on retirement, says ‘People wanted him to quit before Sri Lanka game’ - Reports</td>\n",
              "      <td>Policy/Economy</td>\n",
              "    </tr>\n",
              "    <tr>\n",
              "      <th>564</th>\n",
              "      <td>How is anyone affording a decent home in a metro city nowadays? My husband and I make together more than 18 lakh/annum after tax. We cannot afford a 2 bedroom house in an area that has no issues ( water connections, shady builders, dilapidated buildings, etc.). Everything is above 1 crore, and with our student loans and car loans, taking on another loan is terrifying. Who is buying all those flats in the fancy multi-story buildings I see everywhere? No one in service that we know has so much money. I guess we have to resign ourself to being in debt for the next 30 years of our life. FML.</td>\n",
              "      <td>Policy/Economy</td>\n",
              "    </tr>\n",
              "    <tr>\n",
              "      <th>803</th>\n",
              "      <td>Where did the jobs go and where they will come from</td>\n",
              "      <td>Policy/Economy</td>\n",
              "    </tr>\n",
              "    <tr>\n",
              "      <th>396</th>\n",
              "      <td>संन्यास के बाद, युवराज सिंह की क्रिकेट में वापसी | colors news</td>\n",
              "      <td>Sports</td>\n",
              "    </tr>\n",
              "    <tr>\n",
              "      <th>1040</th>\n",
              "      <td>Indian states - second most spoken languages</td>\n",
              "      <td>Scheduled</td>\n",
              "    </tr>\n",
              "    <tr>\n",
              "      <th>113</th>\n",
              "      <td>[AskIndia] Why do we have so much distrust of Businesses and Markets? Was listening to a talk from Kunal Shah (founder of Freecharge and Cred) and found quite a few insights about the attitude of Indians towards generating wealth through businesses.\\n\\nA few things really stood out. For example -\\n\\n1. India has a unique MRP system for products found nowhere else in the world. It gives us the illusion that we are charged fairly for our goods but it works very counter-intuitively against the poor.\\nBecause the rich pay almost the same price as the poor. A richer neighbourhood should have richer prices than in a poorer neighbourhood.\\nThe manufacturer has to price the MRP at a rate higher than he would in a competitive market because he needs to make sure he covers his cost or overruns due to dead or destroyed stock.\\n\\n2. How we, as Indians, value money over time. We would not pay for quality which saves us time but we will gladly buy sub-quality goods if it saves us money.\\n\\n3. We question and probe profit percentages of each private company but have no clue about the efficiency of government spending and yet we keep clamouring for more taxes.\\n\\n4. Pre-1991, we were poor and ridden with Socialist policies which championed the poor and the farmers and we went bankrupt. But after 1991, when we allowed foreign money to come in, we saw a substantial rise in the standard of living and goods.\\nYet, we are still calling restrictions on foreign capital in e-commerce and retail which is just perplexing.\\n\\n5. We think the private companies are out to loot the people of India and we think Adani and Ambani are rich because of Modi but it is, in fact, the lack of competition and implementation of endless rules and licenses that allow Adani and Reliance to operate in any field with almost no competition.\\n\\n\\nI don't get it. Is this an education thing? Have we been taught capitalism incorrectly? The numbers are so clear yet we are still stuck in denial about having government involvement in the economy. So many people flock to capitalist economies from India yet why do we trust the government so much?\\n\\nAnd before anyone says, yes I do think Healthcare, defense, law and order should be under government along with economic incentives for education and research but beyond that, you don't really need government.</td>\n",
              "      <td>Policy/Economy</td>\n",
              "    </tr>\n",
              "    <tr>\n",
              "      <th>596</th>\n",
              "      <td>What are the skills you can learn in one year that will pay you off in the future? Especially skills which can provide me jobs even if I self-learn them from scratch.</td>\n",
              "      <td>Photography</td>\n",
              "    </tr>\n",
              "    <tr>\n",
              "      <th>732</th>\n",
              "      <td>[NP]If you were guaranteed a salary of exactly 50L a year no matter your profession, what career would you pursue Edit: You can only choose one career path.\\n\\nOne thing that you will do for the rest of your life.\\nAnswer carefully. /:)</td>\n",
              "      <td>Photography</td>\n",
              "    </tr>\n",
              "    <tr>\n",
              "      <th>239</th>\n",
              "      <td>Ranveer Singh Presents First Look As Haryana Hurricane Kapil Dev In Kabir Khan’s 83</td>\n",
              "      <td>Scheduled</td>\n",
              "    </tr>\n",
              "    <tr>\n",
              "      <th>445</th>\n",
              "      <td>Best Place To Visit In India In June</td>\n",
              "      <td>Scheduled</td>\n",
              "    </tr>\n",
              "  </tbody>\n",
              "</table>\n",
              "</div>"
            ],
            "text/plain": [
              "                                                                                                                                                                                                                                                                                                                                                                                                                                                                                                                                                                                                                                                                                                                                                                                                                                                                                                                                                                                                                                                                                                                                                                                                                                                                                                                                                                                                                                                                                                                                                                                                                                                                                                                                                                                                                                                                                                                                                                                                                                                                                                                                                                                                                                                                                                                                                                                                                                      Text           flair\n",
              "506   MS Dhoni breaks silence on retirement, says ‘People wanted him to quit before Sri Lanka game’ - Reports                                                                                                                                                                                                                                                                                                                                                                                                                                                                                                                                                                                                                                                                                                                                                                                                                                                                                                                                                                                                                                                                                                                                                                                                                                                                                                                                                                                                                                                                                                                                                                                                                                                                                                                                                                                                                                                                                                                                                                                                                                                                                                                                                                                                                                                                                                                               Policy/Economy\n",
              "564   How is anyone affording a decent home in a metro city nowadays? My husband and I make together more than 18 lakh/annum after tax. We cannot afford a 2 bedroom house in an area that has no issues ( water connections, shady builders, dilapidated buildings, etc.). Everything is above 1 crore, and with our student loans and car loans, taking on another loan is terrifying. Who is buying all those flats in the fancy multi-story buildings I see everywhere? No one in service that we know has so much money. I guess we have to resign ourself to being in debt for the next 30 years of our life. FML.                                                                                                                                                                                                                                                                                                                                                                                                                                                                                                                                                                                                                                                                                                                                                                                                                                                                                                                                                                                                                                                                                                                                                                                                                                                                                                                                                                                                                                                                                                                                                                                                                                                                                                                                                                                                                    Policy/Economy\n",
              "803   Where did the jobs go and where they will come from                                                                                                                                                                                                                                                                                                                                                                                                                                                                                                                                                                                                                                                                                                                                                                                                                                                                                                                                                                                                                                                                                                                                                                                                                                                                                                                                                                                                                                                                                                                                                                                                                                                                                                                                                                                                                                                                                                                                                                                                                                                                                                                                                                                                                                                                                                                                                                                   Policy/Economy\n",
              "396   संन्यास के बाद, युवराज सिंह की क्रिकेट में वापसी | colors news                                                                                                                                                                                                                                                                                                                                                                                                                                                                                                                                                                                                                                                                                                                                                                                                                                                                                                                                                                                                                                                                                                                                                                                                                                                                                                                                                                                                                                                                                                                                                                                                                                                                                                                                                                                                                                                                                                                                                                                                                                                                                                                                                                                                                                                                                                                                                                        Sports        \n",
              "1040  Indian states - second most spoken languages                                                                                                                                                                                                                                                                                                                                                                                                                                                                                                                                                                                                                                                                                                                                                                                                                                                                                                                                                                                                                                                                                                                                                                                                                                                                                                                                                                                                                                                                                                                                                                                                                                                                                                                                                                                                                                                                                                                                                                                                                                                                                                                                                                                                                                                                                                                                                                                          Scheduled     \n",
              "113   [AskIndia] Why do we have so much distrust of Businesses and Markets? Was listening to a talk from Kunal Shah (founder of Freecharge and Cred) and found quite a few insights about the attitude of Indians towards generating wealth through businesses.\\n\\nA few things really stood out. For example -\\n\\n1. India has a unique MRP system for products found nowhere else in the world. It gives us the illusion that we are charged fairly for our goods but it works very counter-intuitively against the poor.\\nBecause the rich pay almost the same price as the poor. A richer neighbourhood should have richer prices than in a poorer neighbourhood.\\nThe manufacturer has to price the MRP at a rate higher than he would in a competitive market because he needs to make sure he covers his cost or overruns due to dead or destroyed stock.\\n\\n2. How we, as Indians, value money over time. We would not pay for quality which saves us time but we will gladly buy sub-quality goods if it saves us money.\\n\\n3. We question and probe profit percentages of each private company but have no clue about the efficiency of government spending and yet we keep clamouring for more taxes.\\n\\n4. Pre-1991, we were poor and ridden with Socialist policies which championed the poor and the farmers and we went bankrupt. But after 1991, when we allowed foreign money to come in, we saw a substantial rise in the standard of living and goods.\\nYet, we are still calling restrictions on foreign capital in e-commerce and retail which is just perplexing.\\n\\n5. We think the private companies are out to loot the people of India and we think Adani and Ambani are rich because of Modi but it is, in fact, the lack of competition and implementation of endless rules and licenses that allow Adani and Reliance to operate in any field with almost no competition.\\n\\n\\nI don't get it. Is this an education thing? Have we been taught capitalism incorrectly? The numbers are so clear yet we are still stuck in denial about having government involvement in the economy. So many people flock to capitalist economies from India yet why do we trust the government so much?\\n\\nAnd before anyone says, yes I do think Healthcare, defense, law and order should be under government along with economic incentives for education and research but beyond that, you don't really need government.  Policy/Economy\n",
              "596   What are the skills you can learn in one year that will pay you off in the future? Especially skills which can provide me jobs even if I self-learn them from scratch.                                                                                                                                                                                                                                                                                                                                                                                                                                                                                                                                                                                                                                                                                                                                                                                                                                                                                                                                                                                                                                                                                                                                                                                                                                                                                                                                                                                                                                                                                                                                                                                                                                                                                                                                                                                                                                                                                                                                                                                                                                                                                                                                                                                                                                                                Photography   \n",
              "732   [NP]If you were guaranteed a salary of exactly 50L a year no matter your profession, what career would you pursue Edit: You can only choose one career path.\\n\\nOne thing that you will do for the rest of your life.\\nAnswer carefully. /:)                                                                                                                                                                                                                                                                                                                                                                                                                                                                                                                                                                                                                                                                                                                                                                                                                                                                                                                                                                                                                                                                                                                                                                                                                                                                                                                                                                                                                                                                                                                                                                                                                                                                                                                                                                                                                                                                                                                                                                                                                                                                                                                                                                                          Photography   \n",
              "239   Ranveer Singh Presents First Look As Haryana Hurricane Kapil Dev In Kabir Khan’s 83                                                                                                                                                                                                                                                                                                                                                                                                                                                                                                                                                                                                                                                                                                                                                                                                                                                                                                                                                                                                                                                                                                                                                                                                                                                                                                                                                                                                                                                                                                                                                                                                                                                                                                                                                                                                                                                                                                                                                                                                                                                                                                                                                                                                                                                                                                                                                   Scheduled     \n",
              "445   Best Place To Visit In India In June                                                                                                                                                                                                                                                                                                                                                                                                                                                                                                                                                                                                                                                                                                                                                                                                                                                                                                                                                                                                                                                                                                                                                                                                                                                                                                                                                                                                                                                                                                                                                                                                                                                                                                                                                                                                                                                                                                                                                                                                                                                                                                                                                                                                                                                                                                                                                                                                  Scheduled     "
            ]
          },
          "metadata": {
            "tags": []
          },
          "execution_count": 52
        }
      ]
    },
    {
      "cell_type": "markdown",
      "metadata": {
        "id": "qcOXrGmlb5ls",
        "colab_type": "text"
      },
      "source": [
        "On careful observation we can see that for Ids 506, 564, 803 and 596 the model predictions are in line with human predictions. The text in the following posts are related to the flair category predicted. For instance if we take Id 596 the text seems to be a question asking for skills to be learnt. Here we would also classify it as a flair of category AskIndia. So clearly we can understand that the model has very good language understanding capabilities.\n",
        " \n",
        " Furthermore, let us study case with id 506 with the help of explain( ) function of Ktrain. Here in case id 506 the name of famous Cricketer M.S.Dhoni is present and the context of the text is retirement in sports. The model predicts flair as sports which is alligning with human appraoch. Let us confirm this with Ktrain function. The explain function is based on probabilities of various words in the sentence impacting the final classification. The input is randomly perturbed to examine how the prediction changes. This is used to infer the relative importance of different words to the final prediction."
      ]
    },
    {
      "cell_type": "code",
      "metadata": {
        "id": "03fVD7j6oSx2",
        "colab_type": "code",
        "colab": {}
      },
      "source": [
        "predictor = ktrain.get_predictor(learner.model, preproc=t)"
      ],
      "execution_count": 0,
      "outputs": []
    },
    {
      "cell_type": "code",
      "metadata": {
        "id": "ptbACnjcdsYf",
        "colab_type": "code",
        "outputId": "9d107af2-e76d-4823-e3e5-e3b0e89ad9aa",
        "colab": {
          "base_uri": "https://localhost:8080/",
          "height": 35
        }
      },
      "source": [
        "predictor.predict(x_val[506])"
      ],
      "execution_count": 0,
      "outputs": [
        {
          "output_type": "display_data",
          "data": {
            "text/html": [
              ""
            ],
            "text/plain": [
              "<IPython.core.display.HTML object>"
            ]
          },
          "metadata": {
            "tags": []
          }
        },
        {
          "output_type": "execute_result",
          "data": {
            "text/plain": [
              "'Sports'"
            ]
          },
          "metadata": {
            "tags": []
          },
          "execution_count": 17
        }
      ]
    },
    {
      "cell_type": "code",
      "metadata": {
        "id": "bp0_DQWEeCLX",
        "colab_type": "code",
        "outputId": "13be3ea4-bfe1-4275-8bb8-25bbb7baa817",
        "colab": {
          "base_uri": "https://localhost:8080/",
          "height": 35
        }
      },
      "source": [
        "# Required module for explainable AI\n",
        "!pip install -q git+https://github.com/amaiya/eli5@tfkeras_0_10_1"
      ],
      "execution_count": 0,
      "outputs": [
        {
          "output_type": "stream",
          "text": [
            "  Building wheel for eli5 (setup.py) ... \u001b[?25l\u001b[?25hdone\n"
          ],
          "name": "stdout"
        }
      ]
    },
    {
      "cell_type": "code",
      "metadata": {
        "id": "X0RU1xO6eOzL",
        "colab_type": "code",
        "outputId": "e0732e8a-80ad-4669-a590-49fc3afa52d0",
        "colab": {
          "base_uri": "https://localhost:8080/",
          "height": 627
        }
      },
      "source": [
        "predictor.explain(x_val[506])"
      ],
      "execution_count": 0,
      "outputs": [
        {
          "output_type": "display_data",
          "data": {
            "text/html": [
              ""
            ],
            "text/plain": [
              "<IPython.core.display.HTML object>"
            ]
          },
          "metadata": {
            "tags": []
          }
        },
        {
          "output_type": "display_data",
          "data": {
            "text/html": [
              ""
            ],
            "text/plain": [
              "<IPython.core.display.HTML object>"
            ]
          },
          "metadata": {
            "tags": []
          }
        },
        {
          "output_type": "execute_result",
          "data": {
            "text/html": [
              "\n",
              "    <style>\n",
              "    table.eli5-weights tr:hover {\n",
              "        filter: brightness(85%);\n",
              "    }\n",
              "</style>\n",
              "\n",
              "\n",
              "\n",
              "    \n",
              "\n",
              "    \n",
              "\n",
              "    \n",
              "\n",
              "    \n",
              "\n",
              "    \n",
              "\n",
              "    \n",
              "\n",
              "\n",
              "    \n",
              "\n",
              "    \n",
              "\n",
              "    \n",
              "\n",
              "    \n",
              "        \n",
              "\n",
              "    \n",
              "\n",
              "        \n",
              "            \n",
              "                \n",
              "                \n",
              "    \n",
              "        <p style=\"margin-bottom: 0.5em; margin-top: 0em\">\n",
              "            <b>\n",
              "    \n",
              "        y=Sports\n",
              "    \n",
              "</b>\n",
              "\n",
              "    \n",
              "    (probability <b>0.998</b>, score <b>8.962</b>)\n",
              "\n",
              "top features\n",
              "        </p>\n",
              "    \n",
              "    <table class=\"eli5-weights\"\n",
              "           style=\"border-collapse: collapse; border: none; margin-top: 0em; table-layout: auto; margin-bottom: 2em;\">\n",
              "        <thead>\n",
              "        <tr style=\"border: none;\">\n",
              "            \n",
              "                <th style=\"padding: 0 1em 0 0.5em; text-align: right; border: none;\" title=\"Feature contribution already accounts for the feature value (for linear models, contribution = weight * feature value), and the sum of feature contributions is equal to the score or, for some classifiers, to the probability. Feature values are shown if &quot;show_feature_values&quot; is True.\">\n",
              "                    Contribution<sup>?</sup>\n",
              "                </th>\n",
              "            \n",
              "            <th style=\"padding: 0 0.5em 0 0.5em; text-align: left; border: none;\">Feature</th>\n",
              "            \n",
              "        </tr>\n",
              "        </thead>\n",
              "        <tbody>\n",
              "        \n",
              "            <tr style=\"background-color: hsl(120, 100.00%, 80.00%); border: none;\">\n",
              "    <td style=\"padding: 0 1em 0 0.5em; text-align: right; border: none;\">\n",
              "        +3.489\n",
              "    </td>\n",
              "    <td style=\"padding: 0 0.5em 0 0.5em; text-align: left; border: none;\">\n",
              "        dhoni\n",
              "    </td>\n",
              "    \n",
              "</tr>\n",
              "        \n",
              "            <tr style=\"background-color: hsl(120, 100.00%, 83.99%); border: none;\">\n",
              "    <td style=\"padding: 0 1em 0 0.5em; text-align: right; border: none;\">\n",
              "        +2.539\n",
              "    </td>\n",
              "    <td style=\"padding: 0 0.5em 0 0.5em; text-align: left; border: none;\">\n",
              "        game\n",
              "    </td>\n",
              "    \n",
              "</tr>\n",
              "        \n",
              "            <tr style=\"background-color: hsl(120, 100.00%, 89.07%); border: none;\">\n",
              "    <td style=\"padding: 0 1em 0 0.5em; text-align: right; border: none;\">\n",
              "        +1.471\n",
              "    </td>\n",
              "    <td style=\"padding: 0 0.5em 0 0.5em; text-align: left; border: none;\">\n",
              "        ms dhoni\n",
              "    </td>\n",
              "    \n",
              "</tr>\n",
              "        \n",
              "            <tr style=\"background-color: hsl(120, 100.00%, 91.68%); border: none;\">\n",
              "    <td style=\"padding: 0 1em 0 0.5em; text-align: right; border: none;\">\n",
              "        +0.997\n",
              "    </td>\n",
              "    <td style=\"padding: 0 0.5em 0 0.5em; text-align: left; border: none;\">\n",
              "        ms\n",
              "    </td>\n",
              "    \n",
              "</tr>\n",
              "        \n",
              "            <tr style=\"background-color: hsl(120, 100.00%, 91.83%); border: none;\">\n",
              "    <td style=\"padding: 0 1em 0 0.5em; text-align: right; border: none;\">\n",
              "        +0.971\n",
              "    </td>\n",
              "    <td style=\"padding: 0 0.5em 0 0.5em; text-align: left; border: none;\">\n",
              "        sri lanka\n",
              "    </td>\n",
              "    \n",
              "</tr>\n",
              "        \n",
              "            <tr style=\"background-color: hsl(120, 100.00%, 92.89%); border: none;\">\n",
              "    <td style=\"padding: 0 1em 0 0.5em; text-align: right; border: none;\">\n",
              "        +0.796\n",
              "    </td>\n",
              "    <td style=\"padding: 0 0.5em 0 0.5em; text-align: left; border: none;\">\n",
              "        dhoni breaks\n",
              "    </td>\n",
              "    \n",
              "</tr>\n",
              "        \n",
              "            <tr style=\"background-color: hsl(120, 100.00%, 93.30%); border: none;\">\n",
              "    <td style=\"padding: 0 1em 0 0.5em; text-align: right; border: none;\">\n",
              "        +0.732\n",
              "    </td>\n",
              "    <td style=\"padding: 0 0.5em 0 0.5em; text-align: left; border: none;\">\n",
              "        wanted him\n",
              "    </td>\n",
              "    \n",
              "</tr>\n",
              "        \n",
              "            <tr style=\"background-color: hsl(120, 100.00%, 93.34%); border: none;\">\n",
              "    <td style=\"padding: 0 1em 0 0.5em; text-align: right; border: none;\">\n",
              "        +0.725\n",
              "    </td>\n",
              "    <td style=\"padding: 0 0.5em 0 0.5em; text-align: left; border: none;\">\n",
              "        on retirement\n",
              "    </td>\n",
              "    \n",
              "</tr>\n",
              "        \n",
              "            <tr style=\"background-color: hsl(120, 100.00%, 94.05%); border: none;\">\n",
              "    <td style=\"padding: 0 1em 0 0.5em; text-align: right; border: none;\">\n",
              "        +0.617\n",
              "    </td>\n",
              "    <td style=\"padding: 0 0.5em 0 0.5em; text-align: left; border: none;\">\n",
              "        quit before\n",
              "    </td>\n",
              "    \n",
              "</tr>\n",
              "        \n",
              "            <tr style=\"background-color: hsl(120, 100.00%, 94.15%); border: none;\">\n",
              "    <td style=\"padding: 0 1em 0 0.5em; text-align: right; border: none;\">\n",
              "        +0.603\n",
              "    </td>\n",
              "    <td style=\"padding: 0 0.5em 0 0.5em; text-align: left; border: none;\">\n",
              "        to quit\n",
              "    </td>\n",
              "    \n",
              "</tr>\n",
              "        \n",
              "            <tr style=\"background-color: hsl(120, 100.00%, 94.52%); border: none;\">\n",
              "    <td style=\"padding: 0 1em 0 0.5em; text-align: right; border: none;\">\n",
              "        +0.549\n",
              "    </td>\n",
              "    <td style=\"padding: 0 0.5em 0 0.5em; text-align: left; border: none;\">\n",
              "        retirement says\n",
              "    </td>\n",
              "    \n",
              "</tr>\n",
              "        \n",
              "            <tr style=\"background-color: hsl(120, 100.00%, 94.84%); border: none;\">\n",
              "    <td style=\"padding: 0 1em 0 0.5em; text-align: right; border: none;\">\n",
              "        +0.504\n",
              "    </td>\n",
              "    <td style=\"padding: 0 0.5em 0 0.5em; text-align: left; border: none;\">\n",
              "        game reports\n",
              "    </td>\n",
              "    \n",
              "</tr>\n",
              "        \n",
              "            <tr style=\"background-color: hsl(120, 100.00%, 95.16%); border: none;\">\n",
              "    <td style=\"padding: 0 1em 0 0.5em; text-align: right; border: none;\">\n",
              "        +0.459\n",
              "    </td>\n",
              "    <td style=\"padding: 0 0.5em 0 0.5em; text-align: left; border: none;\">\n",
              "        him to\n",
              "    </td>\n",
              "    \n",
              "</tr>\n",
              "        \n",
              "            <tr style=\"background-color: hsl(120, 100.00%, 95.71%); border: none;\">\n",
              "    <td style=\"padding: 0 1em 0 0.5em; text-align: right; border: none;\">\n",
              "        +0.387\n",
              "    </td>\n",
              "    <td style=\"padding: 0 0.5em 0 0.5em; text-align: left; border: none;\">\n",
              "        people wanted\n",
              "    </td>\n",
              "    \n",
              "</tr>\n",
              "        \n",
              "            <tr style=\"background-color: hsl(120, 100.00%, 96.43%); border: none;\">\n",
              "    <td style=\"padding: 0 1em 0 0.5em; text-align: right; border: none;\">\n",
              "        +0.298\n",
              "    </td>\n",
              "    <td style=\"padding: 0 0.5em 0 0.5em; text-align: left; border: none;\">\n",
              "        retirement\n",
              "    </td>\n",
              "    \n",
              "</tr>\n",
              "        \n",
              "            <tr style=\"background-color: hsl(120, 100.00%, 96.46%); border: none;\">\n",
              "    <td style=\"padding: 0 1em 0 0.5em; text-align: right; border: none;\">\n",
              "        +0.294\n",
              "    </td>\n",
              "    <td style=\"padding: 0 0.5em 0 0.5em; text-align: left; border: none;\">\n",
              "        before sri\n",
              "    </td>\n",
              "    \n",
              "</tr>\n",
              "        \n",
              "            <tr style=\"background-color: hsl(120, 100.00%, 97.40%); border: none;\">\n",
              "    <td style=\"padding: 0 1em 0 0.5em; text-align: right; border: none;\">\n",
              "        +0.189\n",
              "    </td>\n",
              "    <td style=\"padding: 0 0.5em 0 0.5em; text-align: left; border: none;\">\n",
              "        says people\n",
              "    </td>\n",
              "    \n",
              "</tr>\n",
              "        \n",
              "            <tr style=\"background-color: hsl(120, 100.00%, 97.81%); border: none;\">\n",
              "    <td style=\"padding: 0 1em 0 0.5em; text-align: right; border: none;\">\n",
              "        +0.148\n",
              "    </td>\n",
              "    <td style=\"padding: 0 0.5em 0 0.5em; text-align: left; border: none;\">\n",
              "        before\n",
              "    </td>\n",
              "    \n",
              "</tr>\n",
              "        \n",
              "        \n",
              "\n",
              "        \n",
              "        \n",
              "            <tr style=\"background-color: hsl(0, 100.00%, 99.02%); border: none;\">\n",
              "    <td style=\"padding: 0 1em 0 0.5em; text-align: right; border: none;\">\n",
              "        -0.047\n",
              "    </td>\n",
              "    <td style=\"padding: 0 0.5em 0 0.5em; text-align: left; border: none;\">\n",
              "        breaks silence\n",
              "    </td>\n",
              "    \n",
              "</tr>\n",
              "        \n",
              "            <tr style=\"background-color: hsl(0, 100.00%, 98.07%); border: none;\">\n",
              "    <td style=\"padding: 0 1em 0 0.5em; text-align: right; border: none;\">\n",
              "        -0.123\n",
              "    </td>\n",
              "    <td style=\"padding: 0 0.5em 0 0.5em; text-align: left; border: none;\">\n",
              "        to\n",
              "    </td>\n",
              "    \n",
              "</tr>\n",
              "        \n",
              "            <tr style=\"background-color: hsl(0, 100.00%, 97.57%); border: none;\">\n",
              "    <td style=\"padding: 0 1em 0 0.5em; text-align: right; border: none;\">\n",
              "        -0.171\n",
              "    </td>\n",
              "    <td style=\"padding: 0 0.5em 0 0.5em; text-align: left; border: none;\">\n",
              "        wanted\n",
              "    </td>\n",
              "    \n",
              "</tr>\n",
              "        \n",
              "            <tr style=\"background-color: hsl(0, 100.00%, 97.09%); border: none;\">\n",
              "    <td style=\"padding: 0 1em 0 0.5em; text-align: right; border: none;\">\n",
              "        -0.222\n",
              "    </td>\n",
              "    <td style=\"padding: 0 0.5em 0 0.5em; text-align: left; border: none;\">\n",
              "        quit\n",
              "    </td>\n",
              "    \n",
              "</tr>\n",
              "        \n",
              "            <tr style=\"background-color: hsl(0, 100.00%, 96.19%); border: none;\">\n",
              "    <td style=\"padding: 0 1em 0 0.5em; text-align: right; border: none;\">\n",
              "        -0.326\n",
              "    </td>\n",
              "    <td style=\"padding: 0 0.5em 0 0.5em; text-align: left; border: none;\">\n",
              "        sri\n",
              "    </td>\n",
              "    \n",
              "</tr>\n",
              "        \n",
              "            <tr style=\"background-color: hsl(0, 100.00%, 96.16%); border: none;\">\n",
              "    <td style=\"padding: 0 1em 0 0.5em; text-align: right; border: none;\">\n",
              "        -0.330\n",
              "    </td>\n",
              "    <td style=\"padding: 0 0.5em 0 0.5em; text-align: left; border: none;\">\n",
              "        lanka game\n",
              "    </td>\n",
              "    \n",
              "</tr>\n",
              "        \n",
              "            <tr style=\"background-color: hsl(0, 100.00%, 96.11%); border: none;\">\n",
              "    <td style=\"padding: 0 1em 0 0.5em; text-align: right; border: none;\">\n",
              "        -0.336\n",
              "    </td>\n",
              "    <td style=\"padding: 0 0.5em 0 0.5em; text-align: left; border: none;\">\n",
              "        on\n",
              "    </td>\n",
              "    \n",
              "</tr>\n",
              "        \n",
              "            <tr style=\"background-color: hsl(0, 100.00%, 95.05%); border: none;\">\n",
              "    <td style=\"padding: 0 1em 0 0.5em; text-align: right; border: none;\">\n",
              "        -0.475\n",
              "    </td>\n",
              "    <td style=\"padding: 0 0.5em 0 0.5em; text-align: left; border: none;\">\n",
              "        breaks\n",
              "    </td>\n",
              "    \n",
              "</tr>\n",
              "        \n",
              "            <tr style=\"background-color: hsl(0, 100.00%, 94.58%); border: none;\">\n",
              "    <td style=\"padding: 0 1em 0 0.5em; text-align: right; border: none;\">\n",
              "        -0.541\n",
              "    </td>\n",
              "    <td style=\"padding: 0 0.5em 0 0.5em; text-align: left; border: none;\">\n",
              "        reports\n",
              "    </td>\n",
              "    \n",
              "</tr>\n",
              "        \n",
              "            <tr style=\"background-color: hsl(0, 100.00%, 93.15%); border: none;\">\n",
              "    <td style=\"padding: 0 1em 0 0.5em; text-align: right; border: none;\">\n",
              "        -0.756\n",
              "    </td>\n",
              "    <td style=\"padding: 0 0.5em 0 0.5em; text-align: left; border: none;\">\n",
              "        lanka\n",
              "    </td>\n",
              "    \n",
              "</tr>\n",
              "        \n",
              "            <tr style=\"background-color: hsl(0, 100.00%, 91.16%); border: none;\">\n",
              "    <td style=\"padding: 0 1em 0 0.5em; text-align: right; border: none;\">\n",
              "        -1.087\n",
              "    </td>\n",
              "    <td style=\"padding: 0 0.5em 0 0.5em; text-align: left; border: none;\">\n",
              "        &lt;BIAS&gt;\n",
              "    </td>\n",
              "    \n",
              "</tr>\n",
              "        \n",
              "            <tr style=\"background-color: hsl(0, 100.00%, 90.60%); border: none;\">\n",
              "    <td style=\"padding: 0 1em 0 0.5em; text-align: right; border: none;\">\n",
              "        -1.186\n",
              "    </td>\n",
              "    <td style=\"padding: 0 0.5em 0 0.5em; text-align: left; border: none;\">\n",
              "        people\n",
              "    </td>\n",
              "    \n",
              "</tr>\n",
              "        \n",
              "            <tr style=\"background-color: hsl(0, 100.00%, 90.50%); border: none;\">\n",
              "    <td style=\"padding: 0 1em 0 0.5em; text-align: right; border: none;\">\n",
              "        -1.204\n",
              "    </td>\n",
              "    <td style=\"padding: 0 0.5em 0 0.5em; text-align: left; border: none;\">\n",
              "        silence\n",
              "    </td>\n",
              "    \n",
              "</tr>\n",
              "        \n",
              "\n",
              "        </tbody>\n",
              "    </table>\n",
              "\n",
              "            \n",
              "        \n",
              "\n",
              "        \n",
              "\n",
              "\n",
              "\n",
              "    \n",
              "\n",
              "    \n",
              "\n",
              "    \n",
              "\n",
              "    \n",
              "\n",
              "\n",
              "    \n",
              "\n",
              "    \n",
              "\n",
              "    \n",
              "\n",
              "    \n",
              "\n",
              "    \n",
              "\n",
              "    \n",
              "\n",
              "\n",
              "    \n",
              "\n",
              "    \n",
              "\n",
              "    \n",
              "\n",
              "    \n",
              "\n",
              "    \n",
              "\n",
              "    \n",
              "\n",
              "\n",
              "\n"
            ],
            "text/plain": [
              "<IPython.core.display.HTML object>"
            ]
          },
          "metadata": {
            "tags": []
          },
          "execution_count": 20
        }
      ]
    },
    {
      "cell_type": "markdown",
      "metadata": {
        "id": "FRcSBBOKfdWM",
        "colab_type": "text"
      },
      "source": [
        "As expected the model's inference capability is similar to that of human approach and thinking. I think this demonstrates the great language understanding potential of the XLNet model and show us why Language Models outperform generic algorithms by light years.\n",
        "\n",
        "Now, let us see if the same can be observed in the case of test set."
      ]
    },
    {
      "cell_type": "code",
      "metadata": {
        "id": "piaGLgr7UC-G",
        "colab_type": "code",
        "outputId": "3c63c615-24e2-42ca-eecd-f4a16fc7f878",
        "colab": {
          "base_uri": "https://localhost:8080/",
          "height": 537
        }
      },
      "source": [
        "learner.view_top_losses(n=10, preproc=t, val_data=test)"
      ],
      "execution_count": 0,
      "outputs": [
        {
          "output_type": "stream",
          "text": [
            "----------\n",
            "id:532 | loss:10.48 | true:AskIndia | pred:Sports)\n",
            "\n",
            "----------\n",
            "id:1154 | loss:10.37 | true:Policy/Economy | pred:AskIndia)\n",
            "\n",
            "----------\n",
            "id:14 | loss:9.76 | true:Scheduled | pred:Sports)\n",
            "\n",
            "----------\n",
            "id:687 | loss:9.63 | true:AskIndia | pred:Policy/Economy)\n",
            "\n",
            "----------\n",
            "id:802 | loss:9.6 | true:Photography | pred:AskIndia)\n",
            "\n",
            "----------\n",
            "id:733 | loss:9.6 | true:Business/Finance | pred:Politics)\n",
            "\n",
            "----------\n",
            "id:825 | loss:9.51 | true:Scheduled | pred:Sports)\n",
            "\n",
            "----------\n",
            "id:849 | loss:9.3 | true:Science/Technology | pred:Photography)\n",
            "\n",
            "----------\n",
            "id:906 | loss:9.24 | true:Scheduled | pred:Non-Political)\n",
            "\n",
            "----------\n",
            "id:1199 | loss:9.18 | true:Sports | pred:Science/Technology)\n",
            "\n"
          ],
          "name": "stdout"
        }
      ]
    },
    {
      "cell_type": "code",
      "metadata": {
        "id": "mw2ESRyXeoCa",
        "colab_type": "code",
        "outputId": "d889c44e-5001-444e-92d7-9d8342a9778d",
        "colab": {
          "base_uri": "https://localhost:8080/",
          "height": 377
        }
      },
      "source": [
        "# id:849 is excluded because it is very big in size so not suitable for \n",
        "# studying generalization capability\n",
        "Test_data.iloc[[532, 1154, 14, 687, 802, 733, 825, 906, 1199],:]"
      ],
      "execution_count": 0,
      "outputs": [
        {
          "output_type": "execute_result",
          "data": {
            "text/html": [
              "<div>\n",
              "<style scoped>\n",
              "    .dataframe tbody tr th:only-of-type {\n",
              "        vertical-align: middle;\n",
              "    }\n",
              "\n",
              "    .dataframe tbody tr th {\n",
              "        vertical-align: top;\n",
              "    }\n",
              "\n",
              "    .dataframe thead th {\n",
              "        text-align: right;\n",
              "    }\n",
              "</style>\n",
              "<table border=\"1\" class=\"dataframe\">\n",
              "  <thead>\n",
              "    <tr style=\"text-align: right;\">\n",
              "      <th></th>\n",
              "      <th>Text</th>\n",
              "      <th>flair</th>\n",
              "    </tr>\n",
              "  </thead>\n",
              "  <tbody>\n",
              "    <tr>\n",
              "      <th>532</th>\n",
              "      <td>Randia, I missed out on a lot..</td>\n",
              "      <td>AskIndia</td>\n",
              "    </tr>\n",
              "    <tr>\n",
              "      <th>1154</th>\n",
              "      <td>Do I need to pay tax if I worked as a freelancer? I work as a freelancer and received payments via paypal and direct bank transfer from USA to my bank account via worldremit. So do I need to pay tax and is there any upper limit for freelancer which makes them exempted from tax?</td>\n",
              "      <td>Policy/Economy</td>\n",
              "    </tr>\n",
              "    <tr>\n",
              "      <th>14</th>\n",
              "      <td>Superstar Virat Kohli To Have A Stand Named After Him At Feroz Shah Kotla</td>\n",
              "      <td>Scheduled</td>\n",
              "    </tr>\n",
              "    <tr>\n",
              "      <th>687</th>\n",
              "      <td>The last file score of NITI Aayog report on States unfavorably affected</td>\n",
              "      <td>AskIndia</td>\n",
              "    </tr>\n",
              "    <tr>\n",
              "      <th>802</th>\n",
              "      <td>What's your hobby and how did you get into it?</td>\n",
              "      <td>Photography</td>\n",
              "    </tr>\n",
              "    <tr>\n",
              "      <th>733</th>\n",
              "      <td>What is the use of rojgar-mukta vikas: P Chidambaram</td>\n",
              "      <td>Business/Finance</td>\n",
              "    </tr>\n",
              "    <tr>\n",
              "      <th>825</th>\n",
              "      <td>India's schedule at 2019 World Cup: 5 June – v South Africa, Hampshire Bowl (d)\\n9 June – v Australia, The Oval (d)\\n13 June –  v New Zealand, Nottingham (d)\\n16 June – v Pakistan, Old Trafford (d)\\n22 June –  v Afghanistan, Hampshire Bowl (d)\\n27 June – v Windies, Old Trafford (d)\\n30 June – v England, Edgbaston (d)\\n2 July – v Bangladesh, Edgbaston (d)\\n6 July – v Sri Lanka, Headingley (d)\\n\\n</td>\n",
              "      <td>Scheduled</td>\n",
              "    </tr>\n",
              "    <tr>\n",
              "      <th>906</th>\n",
              "      <td>IAF intercepts An-12 aircraft coming from Pakistan, forced to land at Jaipur airfield</td>\n",
              "      <td>Scheduled</td>\n",
              "    </tr>\n",
              "    <tr>\n",
              "      <th>1199</th>\n",
              "      <td>India’s anti-doping lab banned by Wada</td>\n",
              "      <td>Sports</td>\n",
              "    </tr>\n",
              "  </tbody>\n",
              "</table>\n",
              "</div>"
            ],
            "text/plain": [
              "                                                                                                                                                                                                                                                                                                                                                                                                                Text             flair\n",
              "532   Randia, I missed out on a lot..                                                                                                                                                                                                                                                                                                                                                                                 AskIndia        \n",
              "1154  Do I need to pay tax if I worked as a freelancer? I work as a freelancer and received payments via paypal and direct bank transfer from USA to my bank account via worldremit. So do I need to pay tax and is there any upper limit for freelancer which makes them exempted from tax?                                                                                                                          Policy/Economy  \n",
              "14    Superstar Virat Kohli To Have A Stand Named After Him At Feroz Shah Kotla                                                                                                                                                                                                                                                                                                                                       Scheduled       \n",
              "687   The last file score of NITI Aayog report on States unfavorably affected                                                                                                                                                                                                                                                                                                                                         AskIndia        \n",
              "802   What's your hobby and how did you get into it?                                                                                                                                                                                                                                                                                                                                                                  Photography     \n",
              "733   What is the use of rojgar-mukta vikas: P Chidambaram                                                                                                                                                                                                                                                                                                                                                            Business/Finance\n",
              "825   India's schedule at 2019 World Cup: 5 June – v South Africa, Hampshire Bowl (d)\\n9 June – v Australia, The Oval (d)\\n13 June –  v New Zealand, Nottingham (d)\\n16 June – v Pakistan, Old Trafford (d)\\n22 June –  v Afghanistan, Hampshire Bowl (d)\\n27 June – v Windies, Old Trafford (d)\\n30 June – v England, Edgbaston (d)\\n2 July – v Bangladesh, Edgbaston (d)\\n6 July – v Sri Lanka, Headingley (d)\\n\\n  Scheduled       \n",
              "906   IAF intercepts An-12 aircraft coming from Pakistan, forced to land at Jaipur airfield                                                                                                                                                                                                                                                                                                                           Scheduled       \n",
              "1199  India’s anti-doping lab banned by Wada                                                                                                                                                                                                                                                                                                                                                                          Sports          "
            ]
          },
          "metadata": {
            "tags": []
          },
          "execution_count": 13
        }
      ]
    },
    {
      "cell_type": "markdown",
      "metadata": {
        "id": "28r5q_t3gFTL",
        "colab_type": "text"
      },
      "source": [
        "The same situation as validation set can be observed indicating a consistent performance by the model. Here Id 1154 also presents us with a scenario where the post has multiple domains that is both economics and it is a question (AskIndia). Also similar to the case of validation set we can see that in Id's 14, 802, 825, 906 the model has a human approach to classification."
      ]
    },
    {
      "cell_type": "code",
      "metadata": {
        "id": "AakO3-b7rV7P",
        "colab_type": "code",
        "colab": {}
      },
      "source": [
        "# Save Predictor Model\n",
        "predictor.save('/content/drive/My Drive/Models/Predictor')"
      ],
      "execution_count": 0,
      "outputs": []
    },
    {
      "cell_type": "markdown",
      "metadata": {
        "id": "VCK15Q8AhtDi",
        "colab_type": "text"
      },
      "source": [
        "The Deep Learning Model, XLNet has been successfully trained for Reddit Flair Prediction. Also a detailed analysis of the results was given. The XLNet model has shown great performance across all 12 flair categories and also has shown a language understanding capability comparable to that of Humans. The model exceptionally classified the correct flair even in cases where the true label was wrong or contradicting to the context. The XLNet model exceeded expectations by depicting human level performance in certain cases. This was also verified by observing probabilities through explain function in Ktrain.\n",
        "\n",
        "---\n",
        "\n",
        "\n",
        "\n",
        "---\n",
        "\n"
      ]
    },
    {
      "cell_type": "markdown",
      "metadata": {
        "id": "JiEnlzWGKTL-",
        "colab_type": "text"
      },
      "source": [
        "**DistilBERT**"
      ]
    },
    {
      "cell_type": "markdown",
      "metadata": {
        "id": "yEW59o6VAL_f",
        "colab_type": "text"
      },
      "source": [
        "For the task of Reddit Flair Prediction, the main model I chose is XLNet. I also wanted to try a version of BERT which is modified to be efficient and fast called DistilBERT. Intuitively and experimentally XLNet outperforms BERT in text classification. I wanted to gauge the performance of a BERT model so I trained DistilBert for the same task. As expected, the DistilBERT had a validation accuracy of 46 % and test accuracy of 41 %. It can be seen that XLNet outperforms the DistilBERT model by a large margin."
      ]
    },
    {
      "cell_type": "code",
      "metadata": {
        "id": "aHRgwzxuKdYf",
        "colab_type": "code",
        "outputId": "300e660c-78f0-4c12-b27c-8c41b25cb803",
        "colab": {
          "base_uri": "https://localhost:8080/",
          "height": 379,
          "referenced_widgets": [
            "8655f183ffd741c0bf4c5a72f000a9de",
            "05e63aea54ff4c43883404f0fcfa41d7",
            "84d1c7933c6e4bdbb45d9737647cf3fe",
            "c9643f4a49f54b78b92a485ae35de847",
            "aa61bd3243284f388197c064441c676c",
            "fc76eae228814ea185c87661f68b2391",
            "c1d1dbd397cd4cbc9243ad618a5cf158",
            "88806b7a22bd49f4844c817ffb2e29ea",
            "097097922bdf46a5a4fb4a1eb2bb048f",
            "af23acefe47e44af87abdf93e69c6e93",
            "0d50af2364694f419031943200808636",
            "dfab234810124e478b793a6dcb1f197b",
            "bab4d5b559d24c439102d12654ec89e2",
            "d81dd068b3704dfb9235b13e2ff2e1a5",
            "e8b35b32c2cf4145ad90096d539b8f37",
            "488f6113d18f492ea52ae7cc81c4c733"
          ]
        }
      },
      "source": [
        "# Initializing DistilBERT model and preprocessing data\n",
        "MODEL_NAME = 'distilbert-base-uncased'\n",
        "b_t = text.Transformer(MODEL_NAME, maxlen=500, class_names=flairs)\n",
        "b_train = b_t.preprocess_train(x_train, y_train)\n",
        "b_val = b_t.preprocess_test(x_val, y_val)\n",
        "b_model = b_t.get_classifier()\n",
        "distilbert_learner = ktrain.get_learner(b_model, train_data=train, val_data=val, batch_size=6)"
      ],
      "execution_count": 0,
      "outputs": [
        {
          "output_type": "stream",
          "text": [
            "preprocessing train...\n",
            "language: en\n",
            "train sequence lengths:\n",
            "\tmean : 63\n",
            "\t95percentile : 237\n",
            "\t99percentile : 951\n"
          ],
          "name": "stdout"
        },
        {
          "output_type": "stream",
          "text": [
            "/usr/local/lib/python3.6/dist-packages/ktrain/text/preprocessor.py:478: UserWarning: class_names argument was ignored, as they were extracted from string labels in dataset\n",
            "  if self.get_classes(): warnings.warn('class_names argument was ignored, as they were extracted from string labels in dataset')\n"
          ],
          "name": "stderr"
        },
        {
          "output_type": "display_data",
          "data": {
            "text/html": [
              ""
            ],
            "text/plain": [
              "<IPython.core.display.HTML object>"
            ]
          },
          "metadata": {
            "tags": []
          }
        },
        {
          "output_type": "stream",
          "text": [
            "preprocessing test...\n",
            "language: en\n",
            "test sequence lengths:\n",
            "\tmean : 60\n",
            "\t95percentile : 296\n",
            "\t99percentile : 850\n"
          ],
          "name": "stdout"
        },
        {
          "output_type": "display_data",
          "data": {
            "text/html": [
              ""
            ],
            "text/plain": [
              "<IPython.core.display.HTML object>"
            ]
          },
          "metadata": {
            "tags": []
          }
        },
        {
          "output_type": "display_data",
          "data": {
            "application/vnd.jupyter.widget-view+json": {
              "model_id": "8655f183ffd741c0bf4c5a72f000a9de",
              "version_minor": 0,
              "version_major": 2
            },
            "text/plain": [
              "HBox(children=(IntProgress(value=0, description='Downloading', max=546, style=ProgressStyle(description_width=…"
            ]
          },
          "metadata": {
            "tags": []
          }
        },
        {
          "output_type": "stream",
          "text": [
            "\n"
          ],
          "name": "stdout"
        },
        {
          "output_type": "display_data",
          "data": {
            "application/vnd.jupyter.widget-view+json": {
              "model_id": "097097922bdf46a5a4fb4a1eb2bb048f",
              "version_minor": 0,
              "version_major": 2
            },
            "text/plain": [
              "HBox(children=(IntProgress(value=0, description='Downloading', max=363423424, style=ProgressStyle(description_…"
            ]
          },
          "metadata": {
            "tags": []
          }
        },
        {
          "output_type": "stream",
          "text": [
            "\n"
          ],
          "name": "stdout"
        }
      ]
    },
    {
      "cell_type": "code",
      "metadata": {
        "id": "qA271yueMivz",
        "colab_type": "code",
        "outputId": "1073c574-74b3-4e86-bdd1-9e0485d7e050",
        "colab": {
          "base_uri": "https://localhost:8080/",
          "height": 422
        }
      },
      "source": [
        "# Finding Optimal Learning Rate\n",
        "distilbert_learner.lr_find(show_plot=True, max_epochs=2)"
      ],
      "execution_count": 0,
      "outputs": [
        {
          "output_type": "stream",
          "text": [
            "simulating training for different learning rates... this may take a few moments...\n",
            "Train for 600 steps\n",
            "Epoch 1/2\n",
            "600/600 [==============================] - 141s 235ms/step - loss: 2.4577 - accuracy: 0.1231\n",
            "Epoch 2/2\n",
            "291/600 [=============>................] - ETA: 1:09 - loss: 4.4078 - accuracy: 0.1060\n",
            "\n",
            "done.\n"
          ],
          "name": "stdout"
        },
        {
          "output_type": "display_data",
          "data": {
            "image/png": "[encoded data removed]",
            "text/plain": [
              "<Figure size 432x288 with 1 Axes>"
            ]
          },
          "metadata": {
            "tags": [],
            "needs_background": "light"
          }
        }
      ]
    },
    {
      "cell_type": "code",
      "metadata": {
        "id": "GLSKRMBXSSEc",
        "colab_type": "code",
        "outputId": "52ac158e-a7a8-49a5-bf1d-423e9ea5eae8",
        "colab": {
          "base_uri": "https://localhost:8080/",
          "height": 607
        }
      },
      "source": [
        "# Training the DistilBERT Model\n",
        "distilbert_learner.autofit(4e-5)"
      ],
      "execution_count": 0,
      "outputs": [
        {
          "output_type": "stream",
          "text": [
            "early_stopping automatically enabled at patience=5\n",
            "reduce_on_plateau automatically enabled at patience=2\n",
            "\n",
            "\n",
            "begin training using triangular learning rate policy with max lr of 4e-05...\n",
            "Train for 600 steps, validate for 38 steps\n",
            "Epoch 1/1024\n",
            "600/600 [==============================] - 150s 250ms/step - loss: 2.3095 - accuracy: 0.1881 - val_loss: 2.2176 - val_accuracy: 0.2417\n",
            "Epoch 2/1024\n",
            "600/600 [==============================] - 146s 243ms/step - loss: 2.1021 - accuracy: 0.2633 - val_loss: 2.0056 - val_accuracy: 0.3025\n",
            "Epoch 3/1024\n",
            "600/600 [==============================] - 146s 243ms/step - loss: 1.9478 - accuracy: 0.3267 - val_loss: 1.9096 - val_accuracy: 0.3692\n",
            "Epoch 4/1024\n",
            "600/600 [==============================] - 146s 243ms/step - loss: 1.7412 - accuracy: 0.4247 - val_loss: 1.8147 - val_accuracy: 0.4092\n",
            "Epoch 5/1024\n",
            "600/600 [==============================] - 146s 243ms/step - loss: 1.4565 - accuracy: 0.5142 - val_loss: 1.7852 - val_accuracy: 0.4250\n",
            "Epoch 6/1024\n",
            "600/600 [==============================] - 146s 243ms/step - loss: 1.1791 - accuracy: 0.6303 - val_loss: 1.8151 - val_accuracy: 0.4233\n",
            "Epoch 7/1024\n",
            "599/600 [============================>.] - ETA: 0s - loss: 0.9133 - accuracy: 0.7201\n",
            "Epoch 00007: Reducing Max LR on Plateau: new max lr will be 2e-05 (if not early_stopping).\n",
            "600/600 [==============================] - 146s 243ms/step - loss: 0.9137 - accuracy: 0.7197 - val_loss: 1.8943 - val_accuracy: 0.4408\n",
            "Epoch 8/1024\n",
            "600/600 [==============================] - 146s 243ms/step - loss: 0.6349 - accuracy: 0.8181 - val_loss: 2.0367 - val_accuracy: 0.4467\n",
            "Epoch 9/1024\n",
            "599/600 [============================>.] - ETA: 0s - loss: 0.4675 - accuracy: 0.8731\n",
            "Epoch 00009: Reducing Max LR on Plateau: new max lr will be 1e-05 (if not early_stopping).\n",
            "600/600 [==============================] - 146s 243ms/step - loss: 0.4674 - accuracy: 0.8731 - val_loss: 2.1029 - val_accuracy: 0.4508\n",
            "Epoch 10/1024\n",
            "599/600 [============================>.] - ETA: 0s - loss: 0.3198 - accuracy: 0.9207Restoring model weights from the end of the best epoch.\n",
            "600/600 [==============================] - 146s 243ms/step - loss: 0.3201 - accuracy: 0.9206 - val_loss: 2.2533 - val_accuracy: 0.4583\n",
            "Epoch 00010: early stopping\n",
            "Weights from best epoch have been loaded into model.\n"
          ],
          "name": "stdout"
        },
        {
          "output_type": "execute_result",
          "data": {
            "text/plain": [
              "<tensorflow.python.keras.callbacks.History at 0x7fad49354c88>"
            ]
          },
          "metadata": {
            "tags": []
          },
          "execution_count": 38
        }
      ]
    },
    {
      "cell_type": "code",
      "metadata": {
        "id": "KV_ZxXMIYRqz",
        "colab_type": "code",
        "colab": {}
      },
      "source": [
        "# Save the Model\n",
        "distilbert_learner.save_model('/content/drive/My Drive/Models')"
      ],
      "execution_count": 0,
      "outputs": []
    },
    {
      "cell_type": "code",
      "metadata": {
        "id": "62DLHorUY2kQ",
        "colab_type": "code",
        "outputId": "360e7c0a-4f10-4b92-ce01-29e9e78208e3",
        "colab": {
          "base_uri": "https://localhost:8080/",
          "height": 121
        }
      },
      "source": [
        "# Preprocessing test data into DistilBERT format\n",
        "b_test = b_t.preprocess_test(x_test, y_test)"
      ],
      "execution_count": 0,
      "outputs": [
        {
          "output_type": "stream",
          "text": [
            "preprocessing test...\n",
            "language: en\n",
            "test sequence lengths:\n",
            "\tmean : 65\n",
            "\t95percentile : 257\n",
            "\t99percentile : 907\n"
          ],
          "name": "stdout"
        },
        {
          "output_type": "display_data",
          "data": {
            "text/html": [
              ""
            ],
            "text/plain": [
              "<IPython.core.display.HTML object>"
            ]
          },
          "metadata": {
            "tags": []
          }
        }
      ]
    },
    {
      "cell_type": "code",
      "metadata": {
        "id": "ULTVpo9MYvMG",
        "colab_type": "code",
        "outputId": "487616fd-af34-40a8-89b0-190f21e15ff1",
        "colab": {
          "base_uri": "https://localhost:8080/",
          "height": 555
        }
      },
      "source": [
        "# Validating performance of DistilBERT model\n",
        "distilbert_learner.validate(val_data=test, class_names=flairs)"
      ],
      "execution_count": 0,
      "outputs": [
        {
          "output_type": "stream",
          "text": [
            "                    precision    recall  f1-score   support\n",
            "\n",
            "            Sports       0.49      0.71      0.58       147\n",
            "Science/Technology       0.47      0.33      0.39       115\n",
            "          Politics       0.81      0.88      0.85        25\n",
            "     Non-Political       0.85      0.96      0.90        46\n",
            "          AskIndia       0.25      0.31      0.27        95\n",
            "  Business/Finance       0.16      0.17      0.16       135\n",
            "    Policy/Economy       0.55      0.43      0.48       101\n",
            "         Scheduled       0.20      0.23      0.21        94\n",
            "       Coronavirus       0.42      0.32      0.37       148\n",
            "       Photography       0.83      0.65      0.73       107\n",
            "       CAA-NRC-NPR       0.21      0.16      0.18        98\n",
            "              Food       0.38      0.43      0.40        89\n",
            "\n",
            "          accuracy                           0.41      1200\n",
            "         macro avg       0.47      0.47      0.46      1200\n",
            "      weighted avg       0.43      0.41      0.41      1200\n",
            "\n"
          ],
          "name": "stdout"
        },
        {
          "output_type": "execute_result",
          "data": {
            "text/plain": [
              "array([[105,   4,   0,   0,  11,   8,   3,   4,   2,   1,   7,   2],\n",
              "       [  6,  38,   0,   0,  15,  19,   3,  14,  11,   0,   2,   7],\n",
              "       [  1,   0,  22,   0,   0,   0,   0,   0,   1,   1,   0,   0],\n",
              "       [  0,   1,   0,  44,   0,   0,   0,   0,   0,   0,   1,   0],\n",
              "       [ 24,   3,   0,   4,  29,   9,   1,   5,   2,   3,   6,   9],\n",
              "       [ 21,   3,   1,   0,  19,  23,   7,  25,  12,   2,  12,  10],\n",
              "       [ 10,   7,   0,   0,   7,   9,  43,   6,   0,   6,   7,   6],\n",
              "       [  2,   4,   1,   0,   6,  18,   2,  22,  25,   1,   5,   8],\n",
              "       [ 11,   7,   2,   2,  11,  21,   6,  17,  48,   0,   9,  14],\n",
              "       [ 11,   3,   0,   0,   3,   5,   3,   2,   6,  70,   1,   3],\n",
              "       [ 14,   8,   0,   1,  13,  23,   6,  12,   2,   0,  16,   3],\n",
              "       [  9,   2,   1,   1,   2,  13,   4,   4,   6,   0,   9,  38]])"
            ]
          },
          "metadata": {
            "tags": []
          },
          "execution_count": 41
        }
      ]
    }
  ]
}